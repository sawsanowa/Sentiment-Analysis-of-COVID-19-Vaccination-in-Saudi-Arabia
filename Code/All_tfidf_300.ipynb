{
  "nbformat": 4,
  "nbformat_minor": 0,
  "metadata": {
    "colab": {
      "provenance": []
    },
    "kernelspec": {
      "name": "python3",
      "display_name": "Python 3"
    },
    "language_info": {
      "name": "python"
    }
  },
  "cells": [
    {
      "cell_type": "code",
      "execution_count": null,
      "metadata": {
        "id": "88aGMjIhpMm7"
      },
      "outputs": [],
      "source": [
        "from sklearn import preprocessing, metrics, tree, ensemble\n",
        "from sklearn.preprocessing import LabelEncoder, StandardScaler\n",
        "import matplotlib.pyplot as plt\n",
        "import numpy as np\n",
        "import pandas as pd\n",
        "from collections import Counter\n",
        "from sklearn.pipeline import make_pipeline\n",
        "#-----------------------------------------------------------\n",
        "from sklearn.metrics import classification_report, confusion_matrix, accuracy_score, precision_score, recall_score, f1_score, ConfusionMatrixDisplay, make_scorer\n",
        "from sklearn.model_selection import train_test_split, cross_val_score, GridSearchCV,StratifiedKFold,cross_validate\n",
        "from imblearn.over_sampling import SMOTE\n",
        "from imblearn.combine import SMOTEENN\n",
        "from imblearn.combine import SMOTETomek\n",
        "from imblearn.under_sampling import TomekLinks\n",
        "from keras.preprocessing.text import Tokenizer\n",
        "import csv\n",
        "from sklearn.feature_extraction.text import TfidfTransformer,CountVectorizer,TfidfVectorizer\n",
        "#-----------------------------------------------------------\n",
        "from sklearn.neighbors import KNeighborsClassifier  \n",
        "from sklearn.ensemble import RandomForestClassifier, GradientBoostingClassifier\n",
        "from sklearn.svm import SVC\n",
        "from sklearn.tree import DecisionTreeClassifier\n",
        "from sklearn.linear_model import LogisticRegression\n",
        "from sklearn.neural_network import MLPClassifier\n",
        "from sklearn.discriminant_analysis import LinearDiscriminantAnalysis\n",
        "from sklearn.naive_bayes import MultinomialNB\n",
        "#-----------------------------------------------------------\n",
        "# Prevent future/deprecation warnings from showing in output\n",
        "import warnings\n",
        "warnings.filterwarnings(action='ignore')"
      ]
    },
    {
      "cell_type": "code",
      "source": [
        "from sklearn.metrics import cohen_kappa_score\n"
      ],
      "metadata": {
        "id": "cztpGkjAdiPm"
      },
      "execution_count": null,
      "outputs": []
    },
    {
      "cell_type": "code",
      "source": [
        "# Reading our dataset\n",
        "df = pd.read_csv('/dataset path', usecols=['ypred', 'ytest'])\n",
        "\n",
        "#df.sentiment= df.sentiment.map({'positive':1, 'negative':-1, 'neutral':0})\n",
        "\n",
        "ytest = df.ytest\n",
        "ypred = df.ypred"
      ],
      "metadata": {
        "id": "wyo9GNB_c-TY"
      },
      "execution_count": null,
      "outputs": []
    },
    {
      "cell_type": "code",
      "source": [
        "print(\"precision_score: {:.4f}\".format(precision_score(ytest, ypred, average='weighted')))\n",
        "print(\"recall_score: {:.4f}\".format(recall_score(ytest, ypred, average='weighted')))\n",
        "print(\"F1: {:.4f}\".format(f1_score(ytest, ypred, average='weighted')))\n",
        "print(\"cohen_kappa_score: {:.4f}\".format(cohen_kappa_score(ytest, ypred)))"
      ],
      "metadata": {
        "colab": {
          "base_uri": "https://localhost:8080/"
        },
        "id": "MKdTB8kPdUSi",
        "outputId": "05badfa3-6d81-4924-c3f7-02e18aec57a3"
      },
      "execution_count": null,
      "outputs": [
        {
          "output_type": "stream",
          "name": "stdout",
          "text": [
            "precision_score: 0.7974\n",
            "recall_score: 0.7467\n",
            "F1: 0.7385\n",
            "cohen_kappa_score: 0.6200\n"
          ]
        }
      ]
    },
    {
      "cell_type": "code",
      "source": [
        "df1 = pd.read_excel('/dataset path', usecols=['mazajak', 'manual'])\n",
        "\n",
        "\n",
        "yt = df1.manual\n",
        "yp = df1.mazajak\n",
        "print(\"---\")\n",
        "print(\"precision_score: {:.4f}\".format(precision_score(yt, yp, average='weighted')))\n",
        "print(\"recall_score: {:.4f}\".format(recall_score(yt, yp, average='weighted')))\n",
        "print(\"F1: {:.4f}\".format(f1_score(yt, yp, average='weighted')))"
      ],
      "metadata": {
        "id": "zuARjeuw0Bos"
      },
      "execution_count": null,
      "outputs": []
    },
    {
      "cell_type": "markdown",
      "source": [
        "MAIN CODE"
      ],
      "metadata": {
        "id": "Cj9PKIrNEPEw"
      }
    },
    {
      "cell_type": "code",
      "source": [
        "from google.colab import drive\n",
        "drive.mount('/content/drive')"
      ],
      "metadata": {
        "colab": {
          "base_uri": "https://localhost:8080/"
        },
        "id": "oTJal4vwqXeR",
        "outputId": "037f5a54-e9ea-4865-b6df-da9aeb934cbf"
      },
      "execution_count": null,
      "outputs": [
        {
          "output_type": "stream",
          "name": "stdout",
          "text": [
            "Mounted at /content/drive\n"
          ]
        }
      ]
    },
    {
      "cell_type": "code",
      "execution_count": null,
      "metadata": {
        "id": "Pb-TrMVtjJIn"
      },
      "outputs": [],
      "source": [
        "seed = 300"
      ]
    },
    {
      "cell_type": "code",
      "execution_count": null,
      "metadata": {
        "id": "qTt3ervWtHSv"
      },
      "outputs": [],
      "source": [
        "# Reading our dataset\n",
        "df = pd.read_excel('/dataset path', usecols=['tweet', 'sentiment'])\n",
        "\n",
        "df.sentiment= df.sentiment.map({'positive':1, 'negative':-1, 'neutral':0})\n",
        "\n",
        "X = df.tweet\n",
        "y = df.sentiment\n",
        "\n",
        "# Split our dataset into training and testing data\n",
        "X_train, X_test, y_train, y_test = train_test_split(X, y, test_size=0.2, random_state=seed)"
      ]
    },
    {
      "cell_type": "code",
      "execution_count": null,
      "metadata": {
        "id": "h72VGnxFrIih"
      },
      "outputs": [],
      "source": [
        "#Reading stop words\n",
        "\n",
        "def get_stopwords_list(stop_file_path):    \n",
        "    with open(stop_file_path, 'r', encoding=\"utf-8\") as f:\n",
        "        stopwords = f.readlines()\n",
        "        stop_set = set(m.strip() for m in stopwords)\n",
        "        return list(frozenset(stop_set))\n",
        "\n",
        "stopwords_path = \"/stop_words_arabic.txt\"\n",
        "stopwords = get_stopwords_list(stopwords_path)\n",
        "\n",
        "#----------------------------------------------------------------------\n",
        "\n",
        "#Remove stop words\n",
        "\n",
        "def remove_stop_words(corpus):\n",
        "    results = []\n",
        "    for text in corpus:\n",
        "        tmp = text.split(' ')\n",
        "        for stop_word in stopwords:\n",
        "            if stop_word in tmp:\n",
        "                tmp.remove(stop_word)\n",
        "        results.append(\" \".join(tmp))\n",
        "        \n",
        "    return results"
      ]
    },
    {
      "cell_type": "code",
      "execution_count": null,
      "metadata": {
        "id": "v6UWH-sOrp0F"
      },
      "outputs": [],
      "source": [
        "X_train = remove_stop_words(X_train)"
      ]
    },
    {
      "cell_type": "code",
      "execution_count": null,
      "metadata": {
        "id": "xziAgAFJtEV8"
      },
      "outputs": [],
      "source": [
        "# Instantiate the CountVectorizer method\n",
        "tfidf = TfidfVectorizer()\n",
        "\n",
        "# Fit the training data and then return the matrix\n",
        "training_data = tfidf.fit_transform(X_train)\n",
        "\n",
        "# Transform testing data and return the matrix. Note we are not fitting the testing data into the CountVectorizer()\n",
        "testing_data = tfidf.transform(X_test)"
      ]
    },
    {
      "cell_type": "code",
      "source": [
        "# Decision Tree\n",
        "dt = DecisionTreeClassifier(max_depth=11, random_state=seed)#max_depth=4, \n",
        "dt.fit(training_data,y_train)\n",
        "y_pred_dt = dt.predict(testing_data)\n",
        "dt_acc = accuracy_score(y_test,y_pred_dt)\n",
        "dt_report = classification_report(y_test, y_pred_dt)\n",
        "\n",
        "knn = KNeighborsClassifier(n_neighbors=17)#n_neighbors=13\n",
        "knn.fit(training_data,y_train)\n",
        "y_pred_knn = knn.predict(testing_data)\n",
        "knn_acc = accuracy_score(y_test,y_pred_knn)\n",
        "knn_report = classification_report(y_test, y_pred_knn)\n"
      ],
      "metadata": {
        "id": "w6_t9RyYfywG"
      },
      "execution_count": null,
      "outputs": []
    },
    {
      "cell_type": "code",
      "source": [
        "conf_dt = confusion_matrix(y_test, y_pred_dt)\n",
        "print(\"Confusion Matrix: DT\")\n",
        "print(conf_dt)\n",
        "print(\"\\nClassification Report: Decision Tree\",)\n",
        "print (dt_report)\n",
        "#print(\"Accuracy on training set: {:.4f}\".format(dt.score(training_data,y_train)))\n",
        "print(\"Accuracy on test set: {:.4f}\".format(dt.score(testing_data, y_test)))\n",
        "print(\"f1: {:.4f}\".format(f1_score(y_test, y_pred_dt, average='weighted')))\n",
        "print(\"precision_score: {:.4f}\".format(precision_score(y_test, y_pred_dt, average='weighted')))\n",
        "print(\"recall_score: {:.4f}\".format(recall_score(y_test, y_pred_dt, average='weighted')))\n",
        "print(\"cohen_kappa_score: {:.4f}\".format(cohen_kappa_score(y_test, y_pred_dt)))\n",
        "\n",
        "print(\"----------------------------------------------------------------------\")\n",
        "\n",
        "conf_knn = confusion_matrix(y_test, y_pred_knn)\n",
        "print(\"\\nConfusion Matrix: KNN\")\n",
        "print(conf_knn)\n",
        "print(\"\\nClassification Report: k-nearest neighbors\",)\n",
        "print(knn_report)\n",
        "#print(\"Accuracy on training set: {:.4f}\".format(knn.score(training_data,y_train)))\n",
        "print(\"Accuracy on test set: {:.4f}\".format(knn.score(testing_data, y_test)))\n",
        "print(\"f1: {:.4f}\".format(f1_score(y_test,y_pred_knn, average='weighted')))\n",
        "print(\"precision_score: {:.4f}\".format(precision_score(y_test,y_pred_knn, average='weighted')))\n",
        "print(\"recall_score: {:.4f}\".format(recall_score(y_test, y_pred_knn, average='weighted')))\n",
        "#print(\"specificity: {:.4f}\".format(recall_score(y_test, y_pred_knn,pos_label=0)))\n",
        "print(\"cohen_kappa_score: {:.4f}\".format(cohen_kappa_score(y_test, y_pred_knn)))\n",
        "\n",
        "print(\"----------------------------------------------------------------------\")"
      ],
      "metadata": {
        "colab": {
          "base_uri": "https://localhost:8080/"
        },
        "id": "6TGUMCY9gZLE",
        "outputId": "7458f557-3e18-4252-d668-f3c1f59f8f9a"
      },
      "execution_count": null,
      "outputs": [
        {
          "output_type": "stream",
          "name": "stdout",
          "text": [
            "Confusion Matrix: DT\n",
            "[[5150  786   82]\n",
            " [1917 1926   42]\n",
            " [ 566  219  278]]\n",
            "\n",
            "Classification Report: Decision Tree\n",
            "              precision    recall  f1-score   support\n",
            "\n",
            "          -1       0.67      0.86      0.75      6018\n",
            "           0       0.66      0.50      0.57      3885\n",
            "           1       0.69      0.26      0.38      1063\n",
            "\n",
            "    accuracy                           0.67     10966\n",
            "   macro avg       0.67      0.54      0.57     10966\n",
            "weighted avg       0.67      0.67      0.65     10966\n",
            "\n",
            "Accuracy on test set: 0.6706\n",
            "f1: 0.6511\n",
            "precision_score: 0.6701\n",
            "recall_score: 0.6706\n",
            "cohen_kappa_score: 0.3663\n",
            "----------------------------------------------------------------------\n",
            "\n",
            "Confusion Matrix: KNN\n",
            "[[2629 3279  110]\n",
            " [ 294 3536   55]\n",
            " [ 117  555  391]]\n",
            "\n",
            "Classification Report: k-nearest neighbors\n",
            "              precision    recall  f1-score   support\n",
            "\n",
            "          -1       0.86      0.44      0.58      6018\n",
            "           0       0.48      0.91      0.63      3885\n",
            "           1       0.70      0.37      0.48      1063\n",
            "\n",
            "    accuracy                           0.60     10966\n",
            "   macro avg       0.68      0.57      0.56     10966\n",
            "weighted avg       0.71      0.60      0.59     10966\n",
            "\n",
            "Accuracy on test set: 0.5978\n",
            "f1: 0.5880\n",
            "precision_score: 0.7127\n",
            "recall_score: 0.5978\n",
            "cohen_kappa_score: 0.3351\n",
            "----------------------------------------------------------------------\n"
          ]
        }
      ]
    },
    {
      "cell_type": "code",
      "source": [
        "gb = GradientBoostingClassifier(random_state=seed)#max_depth=4, \n",
        "gb.fit(training_data,y_train)\n",
        "y_pred_gb = gb.predict(testing_data)\n",
        "gb_acc = accuracy_score(y_test,y_pred_gb)\n",
        "gb_report = classification_report(y_test, y_pred_gb)\n",
        "\n",
        "\n",
        "conf_gb = confusion_matrix(y_test, y_pred_gb)\n",
        "print(\"Confusion Matrix: gb\")\n",
        "print(conf_gb)\n",
        "print(\"\\nClassification Report: Decision Tree\",)\n",
        "print (gb_report)\n",
        "#print(\"Accuracy on training set: {:.4f}\".format(dt.score(training_data,y_train)))\n",
        "print(\"Accuracy on test set: {:.4f}\".format(gb.score(testing_data, y_test)))\n",
        "print(\"f1: {:.4f}\".format(f1_score(y_test, y_pred_gb, average='weighted')))\n",
        "print(\"precision_score: {:.4f}\".format(precision_score(y_test, y_pred_gb, average='weighted')))\n",
        "print(\"recall_score: {:.4f}\".format(recall_score(y_test, y_pred_gb, average='weighted')))\n",
        "print(\"cohen_kappa_score: {:.4f}\".format(cohen_kappa_score(y_test, y_pred_gb)))\n",
        "\n",
        "print(\"----------------------------------------------------------------------\")"
      ],
      "metadata": {
        "colab": {
          "base_uri": "https://localhost:8080/"
        },
        "id": "rNSaRym0GZbw",
        "outputId": "39702e94-014a-4e46-b73d-69bd8b8e65bf"
      },
      "execution_count": null,
      "outputs": [
        {
          "output_type": "stream",
          "name": "stdout",
          "text": [
            "Confusion Matrix: gb\n",
            "[[5221  729   68]\n",
            " [1430 2407   48]\n",
            " [ 450  234  379]]\n",
            "\n",
            "Classification Report: Decision Tree\n",
            "              precision    recall  f1-score   support\n",
            "\n",
            "          -1       0.74      0.87      0.80      6018\n",
            "           0       0.71      0.62      0.66      3885\n",
            "           1       0.77      0.36      0.49      1063\n",
            "\n",
            "    accuracy                           0.73     10966\n",
            "   macro avg       0.74      0.61      0.65     10966\n",
            "weighted avg       0.73      0.73      0.72     10966\n",
            "\n",
            "Accuracy on test set: 0.7302\n",
            "f1: 0.7190\n",
            "precision_score: 0.7308\n",
            "recall_score: 0.7302\n",
            "cohen_kappa_score: 0.4922\n",
            "----------------------------------------------------------------------\n"
          ]
        }
      ]
    },
    {
      "cell_type": "code",
      "execution_count": null,
      "metadata": {
        "id": "4hzk20U1t0wo"
      },
      "outputs": [],
      "source": [
        "# Instantiate our model\n",
        "naive_bayes = MultinomialNB()\n",
        "\n",
        "# Fit our model to the training data\n",
        "naive_bayes.fit(training_data,y_train)#X_train_tomek, y_train_tomek\n",
        "\n",
        "# Predict on the test data\n",
        "predictions_nb = naive_bayes.predict(testing_data)\n",
        "\n",
        "naive_bayes_report = classification_report(y_test, predictions_nb,digits=4)"
      ]
    },
    {
      "cell_type": "code",
      "execution_count": null,
      "metadata": {
        "colab": {
          "base_uri": "https://localhost:8080/"
        },
        "id": "9BP5ErrHYKkg",
        "outputId": "ba1ce978-3c91-4452-f407-948d8e60b57f"
      },
      "outputs": [
        {
          "output_type": "stream",
          "name": "stdout",
          "text": [
            "Confusion Matrix: \n",
            "[[5723  294    1]\n",
            " [1517 2368    0]\n",
            " [ 702  309   52]]\n",
            "\n",
            "Classification Report:\n",
            "              precision    recall  f1-score   support\n",
            "\n",
            "          -1     0.7206    0.9510    0.8199      6018\n",
            "           0     0.7970    0.6095    0.6908      3885\n",
            "           1     0.9811    0.0489    0.0932      1063\n",
            "\n",
            "    accuracy                         0.7426     10966\n",
            "   macro avg     0.8329    0.5365    0.5346     10966\n",
            "weighted avg     0.7729    0.7426    0.7037     10966\n",
            "\n",
            "Accuracy on test set: 0.7426\n",
            "f1: 0.7037\n",
            "precision_score: 0.7729\n",
            "recall_score: 0.7426\n",
            "cohen_kappa_score: 0.4913\n",
            "----------------------------------------------------------------------\n"
          ]
        }
      ],
      "source": [
        "conf_nb = confusion_matrix(y_test, predictions_nb)\n",
        "print(\"Confusion Matrix: \")\n",
        "print(conf_nb)\n",
        "print(\"\\nClassification Report:\",)\n",
        "print (naive_bayes_report)\n",
        "print(\"Accuracy on test set: {:.4f}\".format(naive_bayes.score(testing_data, y_test)))\n",
        "print(\"f1: {:.4f}\".format(f1_score(y_test, predictions_nb,average='weighted')))\n",
        "print(\"precision_score: {:.4f}\".format(precision_score(y_test, predictions_nb,average='weighted')))\n",
        "print(\"recall_score: {:.4f}\".format(recall_score(y_test, predictions_nb,average='weighted')))\n",
        "print(\"cohen_kappa_score: {:.4f}\".format(cohen_kappa_score(y_test, predictions_nb)))\n",
        "\n",
        "print(\"----------------------------------------------------------------------\")"
      ]
    },
    {
      "cell_type": "code",
      "source": [
        "class_labels = ['negative', 'neutral', 'positive']\n",
        "ConfusionMatrixDisplay.from_predictions(y_test, predictions_nb,cmap='bone_r',display_labels = class_labels, normalize='true') #,normalize='true'\n",
        "plt.title('Naive Bayes ')"
      ],
      "metadata": {
        "colab": {
          "base_uri": "https://localhost:8080/",
          "height": 313
        },
        "id": "GyV9sI1-572J",
        "outputId": "896e016e-26ff-4481-ad45-961296e2bd26"
      },
      "execution_count": null,
      "outputs": [
        {
          "output_type": "execute_result",
          "data": {
            "text/plain": [
              "Text(0.5, 1.0, 'Naive Bayes ')"
            ]
          },
          "metadata": {},
          "execution_count": 10
        },
        {
          "output_type": "display_data",
          "data": {
            "text/plain": [
              "<Figure size 432x288 with 2 Axes>"
            ],
            "image/png": "[encoded data removed]"
          },
          "metadata": {
            "needs_background": "light"
          }
        }
      ]
    },
    {
      "cell_type": "code",
      "execution_count": null,
      "metadata": {
        "id": "u_sdqope5M9v"
      },
      "outputs": [],
      "source": [
        "# Instantiate our model\n",
        "lr = LogisticRegression(random_state=seed)\n",
        "\n",
        "# Fit our model to the training data\n",
        "lr.fit(training_data,y_train)#X_train_tomek, y_train_tomek\n",
        "\n",
        "# Predict on the test data\n",
        "predictions_lr = lr.predict(testing_data)\n",
        "\n",
        "lr_report = classification_report(y_test, predictions_lr)"
      ]
    },
    {
      "cell_type": "code",
      "execution_count": null,
      "metadata": {
        "colab": {
          "base_uri": "https://localhost:8080/"
        },
        "id": "NAdYPrrr5leL",
        "outputId": "c2e623e7-632b-480d-a02a-b9b34dc3bf7e"
      },
      "outputs": [
        {
          "output_type": "stream",
          "name": "stdout",
          "text": [
            "Confusion Matrix: \n",
            "[[5494  471   53]\n",
            " [ 685 3142   58]\n",
            " [ 269  252  542]]\n",
            "\n",
            "Classification Report:\n",
            "              precision    recall  f1-score   support\n",
            "\n",
            "          -1       0.85      0.91      0.88      6018\n",
            "           0       0.81      0.81      0.81      3885\n",
            "           1       0.83      0.51      0.63      1063\n",
            "\n",
            "    accuracy                           0.84     10966\n",
            "   macro avg       0.83      0.74      0.77     10966\n",
            "weighted avg       0.84      0.84      0.83     10966\n",
            "\n",
            "Accuracy on test set: 0.8370\n",
            "f1: 0.8322\n",
            "precision_score: 0.8361\n",
            "recall_score: 0.8370\n",
            "cohen_kappa_score: 0.7017\n",
            "----------------------------------------------------------------------\n"
          ]
        }
      ],
      "source": [
        "conf_lr = confusion_matrix(y_test, predictions_lr)\n",
        "print(\"Confusion Matrix: \")\n",
        "print(conf_lr)\n",
        "print(\"\\nClassification Report:\",)\n",
        "print (lr_report)\n",
        "print(\"Accuracy on test set: {:.4f}\".format(lr.score(testing_data, y_test)))\n",
        "print(\"f1: {:.4f}\".format(f1_score(y_test, predictions_lr,average='weighted')))\n",
        "print(\"precision_score: {:.4f}\".format(precision_score(y_test, predictions_lr,average='weighted')))\n",
        "print(\"recall_score: {:.4f}\".format(recall_score(y_test, predictions_lr,average='weighted')))\n",
        "print(\"cohen_kappa_score: {:.4f}\".format(cohen_kappa_score(y_test, predictions_lr)))\n",
        "\n",
        "print(\"----------------------------------------------------------------------\")"
      ]
    },
    {
      "cell_type": "code",
      "source": [
        "class_labels = ['negative', 'neutral', 'positive']\n",
        "ConfusionMatrixDisplay.from_predictions(y_test, predictions_lr,cmap='bone_r',display_labels = class_labels,normalize='true') \n",
        "plt.title('Logistic Regression')"
      ],
      "metadata": {
        "colab": {
          "base_uri": "https://localhost:8080/",
          "height": 313
        },
        "id": "xMY2PdF65hrs",
        "outputId": "6a628df2-ff55-42da-a021-9cd55ed4b0d5"
      },
      "execution_count": null,
      "outputs": [
        {
          "output_type": "execute_result",
          "data": {
            "text/plain": [
              "Text(0.5, 1.0, 'Logistic Regression')"
            ]
          },
          "metadata": {},
          "execution_count": 13
        },
        {
          "output_type": "display_data",
          "data": {
            "text/plain": [
              "<Figure size 432x288 with 2 Axes>"
            ],
            "image/png": "[encoded data removed]"
          },
          "metadata": {
            "needs_background": "light"
          }
        }
      ]
    },
    {
      "cell_type": "code",
      "execution_count": null,
      "metadata": {
        "id": "aQge-x64Kuy9"
      },
      "outputs": [],
      "source": [
        "# Instantiate our model\n",
        "rf = RandomForestClassifier(random_state=seed)\n",
        "\n",
        "# Fit our model to the training data\n",
        "rf.fit(training_data,y_train)\n",
        "\n",
        "# Predict on the test data\n",
        "predictions_rf = rf.predict(testing_data)\n",
        "\n",
        "rf_report = classification_report(y_test, predictions_rf)"
      ]
    },
    {
      "cell_type": "code",
      "source": [
        "conf_rf= confusion_matrix(y_test, predictions_rf)\n",
        "print(\"Confusion Matrix: \")\n",
        "print(conf_rf)\n",
        "print(\"\\nClassification Report:\",)\n",
        "print (rf_report)\n",
        "print(\"Accuracy on test set: {:.4f}\".format(rf.score(testing_data, y_test)))\n",
        "print(\"f1: {:.4f}\".format(f1_score(y_test, predictions_rf,average='weighted')))\n",
        "print(\"precision_score: {:.4f}\".format(precision_score(y_test, predictions_rf,average='weighted')))\n",
        "print(\"recall_score: {:.4f}\".format(recall_score(y_test, predictions_rf,average='weighted')))\n",
        "print(\"cohen_kappa_score: {:.4f}\".format(cohen_kappa_score(y_test, predictions_rf)))\n",
        "\n",
        "print(\"----------------------------------------------------------------------\")"
      ],
      "metadata": {
        "colab": {
          "base_uri": "https://localhost:8080/"
        },
        "id": "x7ArY2SKWXHm",
        "outputId": "d0d9c372-505a-491b-8131-47bad77fadba"
      },
      "execution_count": null,
      "outputs": [
        {
          "output_type": "stream",
          "name": "stdout",
          "text": [
            "Confusion Matrix: \n",
            "[[5369  623   26]\n",
            " [ 906 2933   46]\n",
            " [ 397  273  393]]\n",
            "\n",
            "Classification Report:\n",
            "              precision    recall  f1-score   support\n",
            "\n",
            "          -1       0.80      0.89      0.85      6018\n",
            "           0       0.77      0.75      0.76      3885\n",
            "           1       0.85      0.37      0.51      1063\n",
            "\n",
            "    accuracy                           0.79     10966\n",
            "   macro avg       0.81      0.67      0.71     10966\n",
            "weighted avg       0.79      0.79      0.78     10966\n",
            "\n",
            "Accuracy on test set: 0.7929\n",
            "f1: 0.7836\n",
            "precision_score: 0.7949\n",
            "recall_score: 0.7929\n",
            "cohen_kappa_score: 0.6153\n",
            "----------------------------------------------------------------------\n"
          ]
        }
      ]
    },
    {
      "cell_type": "code",
      "source": [
        "class_labels = ['negative', 'neutral', 'positive']\n",
        "ConfusionMatrixDisplay.from_predictions(y_test, predictions_rf,cmap='bone_r',display_labels = class_labels,normalize='true') \n",
        "plt.title('Random Forest')"
      ],
      "metadata": {
        "colab": {
          "base_uri": "https://localhost:8080/",
          "height": 313
        },
        "id": "AveLx5dd4OQN",
        "outputId": "c70103d1-f268-4a60-d8ed-a231424e9ed4"
      },
      "execution_count": null,
      "outputs": [
        {
          "output_type": "execute_result",
          "data": {
            "text/plain": [
              "Text(0.5, 1.0, 'Random Forest')"
            ]
          },
          "metadata": {},
          "execution_count": 16
        },
        {
          "output_type": "display_data",
          "data": {
            "text/plain": [
              "<Figure size 432x288 with 2 Axes>"
            ],
            "image/png": "[encoded data removed]"
          },
          "metadata": {
            "needs_background": "light"
          }
        }
      ]
    },
    {
      "cell_type": "markdown",
      "source": [
        "Cross Validation"
      ],
      "metadata": {
        "id": "Q0kUTFWEv7LU"
      }
    },
    {
      "cell_type": "code",
      "source": [
        "skf = StratifiedKFold(n_splits=10)\n",
        "\n",
        "scoring = {\n",
        "    'accuracy': make_scorer(accuracy_score),\n",
        "    'sensitivity': make_scorer(recall_score,average='weighted'),\n",
        "    'f1': make_scorer(f1_score,average='weighted'),\n",
        "    'precision': make_scorer(precision_score,average='weighted'),\n",
        "}\n",
        "\n",
        "cv=skf"
      ],
      "metadata": {
        "id": "RuYlWtdDJWjy"
      },
      "execution_count": null,
      "outputs": []
    },
    {
      "cell_type": "code",
      "source": [
        "\n",
        "scores = cross_validate(naive_bayes, training_data,y_train, cv=cv,\n",
        "                         scoring=scoring,\n",
        "                        return_train_score=False)\n",
        "sorted(scores.keys())\n",
        "\n",
        "print('accuracy',scores['test_accuracy'].mean())\n",
        "print('f1',scores['test_f1'].mean())\n",
        "print('precision',scores['test_precision'].mean())\n",
        "print('recall',scores['test_sensitivity'].mean())"
      ],
      "metadata": {
        "id": "WfmjgIboJLOZ",
        "colab": {
          "base_uri": "https://localhost:8080/"
        },
        "outputId": "a900b003-8e05-4434-ad05-a07672742278"
      },
      "execution_count": null,
      "outputs": [
        {
          "output_type": "stream",
          "name": "stdout",
          "text": [
            "accuracy 0.73813328481291\n",
            "f1 0.6997266439925044\n",
            "precision 0.7711554409044838\n",
            "recall 0.73813328481291\n"
          ]
        }
      ]
    },
    {
      "cell_type": "code",
      "source": [
        "scores = cross_validate(lr, training_data,y_train, cv=cv,\n",
        "                         scoring=scoring,\n",
        "                        return_train_score=False)\n",
        "sorted(scores.keys())\n",
        "\n",
        "print('accuracy',scores['test_accuracy'].mean())\n",
        "print('f1',scores['test_f1'].mean())\n",
        "print('precision',scores['test_precision'].mean())\n",
        "print('recall',scores['test_sensitivity'].mean())"
      ],
      "metadata": {
        "colab": {
          "base_uri": "https://localhost:8080/"
        },
        "id": "xOZUwt7twOSp",
        "outputId": "8e027aeb-4e0b-46a6-ab2b-82a9740c9e53"
      },
      "execution_count": null,
      "outputs": [
        {
          "output_type": "stream",
          "name": "stdout",
          "text": [
            "accuracy 0.8260907870339043\n",
            "f1 0.8205982728925623\n",
            "precision 0.8271531720265871\n",
            "recall 0.8260907870339043\n"
          ]
        }
      ]
    },
    {
      "cell_type": "code",
      "source": [
        "scores = cross_validate(rf, training_data,y_train, cv=cv,\n",
        "                         scoring=scoring,\n",
        "                        return_train_score=False)\n",
        "sorted(scores.keys())\n",
        "\n",
        "print('accuracy',scores['test_accuracy'].mean())\n",
        "print('f1',scores['test_f1'].mean())\n",
        "print('precision',scores['test_precision'].mean())\n",
        "print('recall',scores['test_sensitivity'].mean())"
      ],
      "metadata": {
        "colab": {
          "base_uri": "https://localhost:8080/"
        },
        "id": "BqRHvNJwwUVv",
        "outputId": "301de422-f345-4b9b-a78d-4190739191e2"
      },
      "execution_count": null,
      "outputs": [
        {
          "output_type": "stream",
          "name": "stdout",
          "text": [
            "accuracy 0.7879255970283215\n",
            "f1 0.7790216573092198\n",
            "precision 0.791691944390261\n",
            "recall 0.7879255970283215\n"
          ]
        }
      ]
    },
    {
      "cell_type": "markdown",
      "source": [
        "Over-sampling"
      ],
      "metadata": {
        "id": "Tx5mIzV90pj7"
      }
    },
    {
      "cell_type": "code",
      "source": [
        "#used\n",
        "sm = SMOTE(random_state=seed)\n",
        "X_train_res, y_train_res = sm.fit_resample(training_data, y_train)\n",
        "print('Resampled dataset shape %s' % Counter(y_train_res))"
      ],
      "metadata": {
        "colab": {
          "base_uri": "https://localhost:8080/"
        },
        "id": "heWQ8NRKn44f",
        "outputId": "69ed38a3-8916-4544-bb41-9881e2cb843d"
      },
      "execution_count": null,
      "outputs": [
        {
          "output_type": "stream",
          "name": "stdout",
          "text": [
            "Resampled dataset shape Counter({-1: 23683, 0: 23683, 1: 23683})\n"
          ]
        }
      ]
    },
    {
      "cell_type": "code",
      "source": [
        "resample=SMOTETomek(tomek=TomekLinks(sampling_strategy='all'),random_state=seed)\n",
        "X_train_res, y_train_res = resample.fit_resample(training_data, y_train)\n",
        "print('Resampled dataset shape %s' % Counter(y_train_res))"
      ],
      "metadata": {
        "colab": {
          "base_uri": "https://localhost:8080/"
        },
        "id": "f67lDrurCOtm",
        "outputId": "c938c013-bed9-4f13-adba-abbf486d6d89"
      },
      "execution_count": null,
      "outputs": [
        {
          "output_type": "stream",
          "name": "stdout",
          "text": [
            "Resampled dataset shape Counter({1: 23676, -1: 23519, 0: 23516})\n"
          ]
        }
      ]
    },
    {
      "cell_type": "code",
      "source": [
        "from imblearn.under_sampling import EditedNearestNeighbours\n",
        "enn = EditedNearestNeighbours()\n",
        "X_train_enn, y_train_renn = enn.fit_resample(training_data, y_train)\n",
        "print('Resampled dataset shape %s' % Counter(y_train_renn))"
      ],
      "metadata": {
        "colab": {
          "base_uri": "https://localhost:8080/"
        },
        "id": "Xrb-L9PLKCUd",
        "outputId": "13e1a62f-2071-4962-e44d-cb08df10ef18"
      },
      "execution_count": null,
      "outputs": [
        {
          "output_type": "stream",
          "name": "stdout",
          "text": [
            "Resampled dataset shape Counter({0: 14558, 1: 4300, -1: 317})\n"
          ]
        }
      ]
    },
    {
      "cell_type": "code",
      "execution_count": null,
      "metadata": {
        "id": "TAjWd6r11SNF"
      },
      "outputs": [],
      "source": [
        "# Instantiate our model\n",
        "naive_bayes = MultinomialNB()\n",
        "\n",
        "# Fit our model to the training data\n",
        "naive_bayes.fit(X_train_res, y_train_res)#X_train_tomek, y_train_tomek\n",
        "\n",
        "# Predict on the test data\n",
        "predictions_nb = naive_bayes.predict(testing_data)\n",
        "\n",
        "naive_bayes_report = classification_report(y_test, predictions_nb)"
      ]
    },
    {
      "cell_type": "code",
      "execution_count": null,
      "metadata": {
        "colab": {
          "base_uri": "https://localhost:8080/"
        },
        "outputId": "24e3286f-95f5-4acd-a339-01a975a30db8",
        "id": "BAZBy3jd1SNj"
      },
      "outputs": [
        {
          "output_type": "stream",
          "name": "stdout",
          "text": [
            "Confusion Matrix: \n",
            "[[5339  391  288]\n",
            " [1018 2399  468]\n",
            " [ 271   99  693]]\n",
            "\n",
            "Classification Report:\n",
            "              precision    recall  f1-score   support\n",
            "\n",
            "          -1       0.81      0.89      0.84      6018\n",
            "           0       0.83      0.62      0.71      3885\n",
            "           1       0.48      0.65      0.55      1063\n",
            "\n",
            "    accuracy                           0.77     10966\n",
            "   macro avg       0.70      0.72      0.70     10966\n",
            "weighted avg       0.78      0.77      0.77     10966\n",
            "\n",
            "Accuracy on test set: 0.7688\n",
            "f1: 0.7678\n",
            "precision_score: 0.7826\n",
            "recall_score: 0.7688\n",
            "----------------------------------------------------------------------\n"
          ]
        }
      ],
      "source": [
        "conf_nb = confusion_matrix(y_test, predictions_nb)\n",
        "print(\"Confusion Matrix: \")\n",
        "print(conf_nb)\n",
        "print(\"\\nClassification Report:\",)\n",
        "print (naive_bayes_report)\n",
        "print(\"Accuracy on test set: {:.4f}\".format(naive_bayes.score(testing_data, y_test)))\n",
        "print(\"f1: {:.4f}\".format(f1_score(y_test, predictions_nb,average='weighted')))\n",
        "print(\"precision_score: {:.4f}\".format(precision_score(y_test, predictions_nb,average='weighted')))\n",
        "print(\"recall_score: {:.4f}\".format(recall_score(y_test, predictions_nb,average='weighted')))\n",
        "\n",
        "print(\"----------------------------------------------------------------------\")"
      ]
    },
    {
      "cell_type": "code",
      "source": [
        "class_labels = ['negative', 'neutral', 'positive']\n",
        "ConfusionMatrixDisplay.from_predictions(y_test, predictions_nb,cmap='bone_r',display_labels = class_labels,normalize='true') \n",
        "plt.title('Naive Bayes ')"
      ],
      "metadata": {
        "colab": {
          "base_uri": "https://localhost:8080/",
          "height": 313
        },
        "outputId": "75801191-b702-43b3-8327-c873dc253afa",
        "id": "2VbL2w8i1SNl"
      },
      "execution_count": null,
      "outputs": [
        {
          "output_type": "execute_result",
          "data": {
            "text/plain": [
              "Text(0.5, 1.0, 'Naive Bayes ')"
            ]
          },
          "metadata": {},
          "execution_count": 26
        },
        {
          "output_type": "display_data",
          "data": {
            "text/plain": [
              "<Figure size 432x288 with 2 Axes>"
            ],
            "image/png": "[encoded data removed]"
          },
          "metadata": {
            "needs_background": "light"
          }
        }
      ]
    },
    {
      "cell_type": "code",
      "execution_count": null,
      "metadata": {
        "id": "kljS4syg1SNm"
      },
      "outputs": [],
      "source": [
        "# Instantiate our model\n",
        "lr = LogisticRegression(random_state=seed)\n",
        "\n",
        "# Fit our model to the training data\n",
        "lr.fit(X_train_res, y_train_res)#X_train_tomek, y_train_tomek\n",
        "\n",
        "# Predict on the test data\n",
        "predictions_lr = lr.predict(testing_data)\n",
        "\n",
        "lr_report = classification_report(y_test, predictions_lr)"
      ]
    },
    {
      "cell_type": "code",
      "execution_count": null,
      "metadata": {
        "colab": {
          "base_uri": "https://localhost:8080/"
        },
        "outputId": "a7d69448-c918-4cd8-e139-554f7f819f17",
        "id": "CHeSp-SQ1SNn"
      },
      "outputs": [
        {
          "output_type": "stream",
          "name": "stdout",
          "text": [
            "Confusion Matrix: \n",
            "[[5570  329  119]\n",
            " [ 872 2839  174]\n",
            " [ 223  154  686]]\n",
            "\n",
            "Classification Report:\n",
            "              precision    recall  f1-score   support\n",
            "\n",
            "          -1       0.84      0.93      0.88      6018\n",
            "           0       0.85      0.73      0.79      3885\n",
            "           1       0.70      0.65      0.67      1063\n",
            "\n",
            "    accuracy                           0.83     10966\n",
            "   macro avg       0.80      0.77      0.78     10966\n",
            "weighted avg       0.83      0.83      0.83     10966\n",
            "\n",
            "Accuracy on test set: 0.8294\n",
            "f1: 0.8263\n",
            "precision_score: 0.8293\n",
            "recall_score: 0.8294\n",
            "----------------------------------------------------------------------\n"
          ]
        }
      ],
      "source": [
        "conf_lr = confusion_matrix(y_test, predictions_lr)\n",
        "print(\"Confusion Matrix: \")\n",
        "print(conf_lr)\n",
        "print(\"\\nClassification Report:\",)\n",
        "print (lr_report)\n",
        "print(\"Accuracy on test set: {:.4f}\".format(lr.score(testing_data, y_test)))\n",
        "print(\"f1: {:.4f}\".format(f1_score(y_test, predictions_lr,average='weighted')))\n",
        "print(\"precision_score: {:.4f}\".format(precision_score(y_test, predictions_lr,average='weighted')))\n",
        "print(\"recall_score: {:.4f}\".format(recall_score(y_test, predictions_lr,average='weighted')))\n",
        "\n",
        "print(\"----------------------------------------------------------------------\")"
      ]
    },
    {
      "cell_type": "code",
      "source": [
        "class_labels = ['negative', 'neutral', 'positive']\n",
        "ConfusionMatrixDisplay.from_predictions(y_test, predictions_lr,cmap='bone_r',display_labels = class_labels,normalize='true') \n",
        "plt.title('Logistic Regression')"
      ],
      "metadata": {
        "colab": {
          "base_uri": "https://localhost:8080/",
          "height": 313
        },
        "outputId": "2b4e6515-20a7-48d1-ba20-b7459f277981",
        "id": "pnu3CwrG1SNo"
      },
      "execution_count": null,
      "outputs": [
        {
          "output_type": "execute_result",
          "data": {
            "text/plain": [
              "Text(0.5, 1.0, 'Logistic Regression')"
            ]
          },
          "metadata": {},
          "execution_count": 29
        },
        {
          "output_type": "display_data",
          "data": {
            "text/plain": [
              "<Figure size 432x288 with 2 Axes>"
            ],
            "image/png": "[encoded data removed]"
          },
          "metadata": {
            "needs_background": "light"
          }
        }
      ]
    },
    {
      "cell_type": "code",
      "execution_count": null,
      "metadata": {
        "id": "BQcnAWYn1SNp"
      },
      "outputs": [],
      "source": [
        "# Instantiate our model\n",
        "rf = RandomForestClassifier(random_state=seed)\n",
        "\n",
        "# Fit our model to the training data\n",
        "rf.fit(X_train_res, y_train_res)\n",
        "\n",
        "# Predict on the test data\n",
        "predictions_rf = rf.predict(testing_data)\n",
        "\n",
        "rf_report = classification_report(y_test, predictions_rf)"
      ]
    },
    {
      "cell_type": "code",
      "source": [
        "conf_rf= confusion_matrix(y_test, predictions_rf)\n",
        "print(\"Confusion Matrix: \")\n",
        "print(conf_rf)\n",
        "print(\"\\nClassification Report:\",)\n",
        "print (rf_report)\n",
        "print(\"Accuracy on test set: {:.4f}\".format(rf.score(testing_data, y_test)))\n",
        "print(\"f1: {:.4f}\".format(f1_score(y_test, predictions_rf,average='weighted')))\n",
        "print(\"precision_score: {:.4f}\".format(precision_score(y_test, predictions_rf,average='weighted')))\n",
        "print(\"recall_score: {:.4f}\".format(recall_score(y_test, predictions_rf,average='weighted')))\n",
        "\n",
        "print(\"----------------------------------------------------------------------\")"
      ],
      "metadata": {
        "colab": {
          "base_uri": "https://localhost:8080/"
        },
        "outputId": "bdbcc164-39ef-440c-e91d-d0d1bf59cf05",
        "id": "qIxgPIrb1SNq"
      },
      "execution_count": null,
      "outputs": [
        {
          "output_type": "stream",
          "name": "stdout",
          "text": [
            "Confusion Matrix: \n",
            "[[5267  643  108]\n",
            " [ 921 2869   95]\n",
            " [ 318  218  527]]\n",
            "\n",
            "Classification Report:\n",
            "              precision    recall  f1-score   support\n",
            "\n",
            "          -1       0.81      0.88      0.84      6018\n",
            "           0       0.77      0.74      0.75      3885\n",
            "           1       0.72      0.50      0.59      1063\n",
            "\n",
            "    accuracy                           0.79     10966\n",
            "   macro avg       0.77      0.70      0.73     10966\n",
            "weighted avg       0.79      0.79      0.79     10966\n",
            "\n",
            "Accuracy on test set: 0.7900\n",
            "f1: 0.7855\n",
            "precision_score: 0.7868\n",
            "recall_score: 0.7900\n",
            "----------------------------------------------------------------------\n"
          ]
        }
      ]
    },
    {
      "cell_type": "code",
      "source": [
        "class_labels = ['negative', 'neutral', 'positive']\n",
        "ConfusionMatrixDisplay.from_predictions(y_test, predictions_rf,cmap='bone_r',display_labels = class_labels,normalize='true') \n",
        "plt.title('Random Forest')"
      ],
      "metadata": {
        "colab": {
          "base_uri": "https://localhost:8080/",
          "height": 313
        },
        "outputId": "f4dc15bd-6acb-456b-dab0-5f92094f3a1d",
        "id": "4xao2DGY1SNr"
      },
      "execution_count": null,
      "outputs": [
        {
          "output_type": "execute_result",
          "data": {
            "text/plain": [
              "Text(0.5, 1.0, 'Random Forest')"
            ]
          },
          "metadata": {},
          "execution_count": 32
        },
        {
          "output_type": "display_data",
          "data": {
            "text/plain": [
              "<Figure size 432x288 with 2 Axes>"
            ],
            "image/png": "[encoded data removed]"
          },
          "metadata": {
            "needs_background": "light"
          }
        }
      ]
    },
    {
      "cell_type": "markdown",
      "source": [
        "Cross Validation"
      ],
      "metadata": {
        "id": "HliQLznQA77m"
      }
    },
    {
      "cell_type": "code",
      "source": [
        "skf = StratifiedKFold(n_splits=10)\n",
        "\n",
        "scoring = {\n",
        "    'accuracy': make_scorer(accuracy_score),\n",
        "    'sensitivity': make_scorer(recall_score,average='weighted'),\n",
        "    'f1': make_scorer(f1_score,average='weighted'),\n",
        "    'precision': make_scorer(precision_score,average='weighted'),\n",
        "}\n",
        "\n",
        "cv=skf"
      ],
      "metadata": {
        "id": "28QdS8FsA77n"
      },
      "execution_count": null,
      "outputs": []
    },
    {
      "cell_type": "code",
      "source": [
        "\n",
        "scores = cross_validate(naive_bayes, X_train_res, y_train_res, cv=cv,\n",
        "                         scoring=scoring,\n",
        "                        return_train_score=False)\n",
        "sorted(scores.keys())\n",
        "\n",
        "print('accuracy',scores['test_accuracy'].mean())\n",
        "print('f1',scores['test_f1'].mean())\n",
        "print('precision',scores['test_precision'].mean())\n",
        "print('recall',scores['test_sensitivity'].mean())"
      ],
      "metadata": {
        "colab": {
          "base_uri": "https://localhost:8080/"
        },
        "outputId": "26453d09-44ca-4d64-8eb6-d7a1cbd9fdd3",
        "id": "RRu6Yu1JA77n"
      },
      "execution_count": null,
      "outputs": [
        {
          "output_type": "stream",
          "name": "stdout",
          "text": [
            "accuracy 0.8324734404466397\n",
            "f1 0.8296753331009562\n",
            "precision 0.8342471669347974\n",
            "recall 0.8324734404466397\n"
          ]
        }
      ]
    },
    {
      "cell_type": "code",
      "source": [
        "scores = cross_validate(lr, X_train_res, y_train_res, cv=cv,\n",
        "                         scoring=scoring,\n",
        "                        return_train_score=False)\n",
        "sorted(scores.keys())\n",
        "\n",
        "print('accuracy',scores['test_accuracy'].mean())\n",
        "print('f1',scores['test_f1'].mean())\n",
        "print('precision',scores['test_precision'].mean())\n",
        "print('recall',scores['test_sensitivity'].mean())"
      ],
      "metadata": {
        "colab": {
          "base_uri": "https://localhost:8080/"
        },
        "outputId": "61d76764-567a-4af7-c53b-68a99853ed06",
        "id": "CwO9uj-TA77o"
      },
      "execution_count": null,
      "outputs": [
        {
          "output_type": "stream",
          "name": "stdout",
          "text": [
            "accuracy 0.897032218781576\n",
            "f1 0.8965990392878632\n",
            "precision 0.8981812707632575\n",
            "recall 0.897032218781576\n"
          ]
        }
      ]
    },
    {
      "cell_type": "code",
      "source": [
        "scores = cross_validate(rf, X_train_res, y_train_res, cv=cv,\n",
        "                         scoring=scoring,\n",
        "                        return_train_score=False)\n",
        "sorted(scores.keys())\n",
        "\n",
        "print('accuracy',scores['test_accuracy'].mean())\n",
        "print('f1',scores['test_f1'].mean())\n",
        "print('precision',scores['test_precision'].mean())\n",
        "print('recall',scores['test_sensitivity'].mean())"
      ],
      "metadata": {
        "colab": {
          "base_uri": "https://localhost:8080/"
        },
        "outputId": "836428db-0a60-44a6-e7ef-0dd67f6a5352",
        "id": "Xcfh9EyoA77p"
      },
      "execution_count": null,
      "outputs": [
        {
          "output_type": "stream",
          "name": "stdout",
          "text": [
            "accuracy 0.8885328597432249\n",
            "f1 0.8878982929031338\n",
            "precision 0.8922599004263964\n",
            "recall 0.8885328597432249\n"
          ]
        }
      ]
    }
  ]
}