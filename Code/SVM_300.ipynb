{
  "nbformat": 4,
  "nbformat_minor": 0,
  "metadata": {
    "colab": {
      "provenance": []
    },
    "kernelspec": {
      "name": "python3",
      "display_name": "Python 3"
    },
    "language_info": {
      "name": "python"
    }
  },
  "cells": [
    {
      "cell_type": "code",
      "execution_count": null,
      "metadata": {
        "id": "88aGMjIhpMm7"
      },
      "outputs": [],
      "source": [
        "from sklearn import preprocessing, metrics, tree, ensemble\n",
        "from sklearn.preprocessing import LabelEncoder, StandardScaler,MaxAbsScaler\n",
        "import matplotlib.pyplot as plt\n",
        "import numpy as np\n",
        "import pandas as pd\n",
        "from collections import Counter\n",
        "from sklearn.pipeline import make_pipeline\n",
        "#-----------------------------------------------------------\n",
        "from sklearn.metrics import classification_report, confusion_matrix, accuracy_score, precision_score, recall_score, f1_score, ConfusionMatrixDisplay, make_scorer\n",
        "from sklearn.model_selection import train_test_split, cross_val_score, GridSearchCV,StratifiedKFold,cross_validate\n",
        "from imblearn.over_sampling import SMOTE\n",
        "from imblearn.combine import SMOTEENN\n",
        "from imblearn.combine import SMOTETomek\n",
        "from keras.preprocessing.text import Tokenizer\n",
        "import csv\n",
        "from sklearn.feature_extraction.text import TfidfTransformer,CountVectorizer,TfidfVectorizer\n",
        "#-----------------------------------------------------------\n",
        "from sklearn.neighbors import KNeighborsClassifier  \n",
        "from sklearn.ensemble import RandomForestClassifier, GradientBoostingClassifier\n",
        "from sklearn.svm import SVC\n",
        "from sklearn.tree import DecisionTreeClassifier\n",
        "from sklearn.linear_model import LogisticRegression\n",
        "from sklearn.neural_network import MLPClassifier\n",
        "from sklearn.discriminant_analysis import LinearDiscriminantAnalysis\n",
        "from sklearn.naive_bayes import MultinomialNB\n",
        "#-----------------------------------------------------------\n",
        "# Prevent future/deprecation warnings from showing in output\n",
        "import warnings\n",
        "warnings.filterwarnings(action='ignore')"
      ]
    },
    {
      "cell_type": "code",
      "source": [
        "from google.colab import drive\n",
        "drive.mount('/content/drive')"
      ],
      "metadata": {
        "colab": {
          "base_uri": "https://localhost:8080/"
        },
        "id": "nU6JTP0x3aEF",
        "outputId": "ddae44e9-b94c-4e27-ebd7-916f477199e5"
      },
      "execution_count": null,
      "outputs": [
        {
          "output_type": "stream",
          "name": "stdout",
          "text": [
            "Mounted at /content/drive\n"
          ]
        }
      ]
    },
    {
      "cell_type": "code",
      "execution_count": null,
      "metadata": {
        "id": "Pb-TrMVtjJIn"
      },
      "outputs": [],
      "source": [
        "seed = 300"
      ]
    },
    {
      "cell_type": "code",
      "execution_count": null,
      "metadata": {
        "id": "qTt3ervWtHSv"
      },
      "outputs": [],
      "source": [
        "# Reading our dataset\n",
        "df = pd.read_excel('/dataset path', usecols=['tweet', 'sentiment'])\n",
        "\n",
        "df.sentiment= df.sentiment.map({'positive':1, 'negative':-1, 'neutral':0})\n",
        "\n",
        "X = df.tweet\n",
        "y = df.sentiment\n",
        "\n",
        "# Split our dataset into training and testing data\n",
        "X_train, X_test, y_train, y_test = train_test_split(X, y, test_size=0.2, random_state=seed)"
      ]
    },
    {
      "cell_type": "code",
      "execution_count": null,
      "metadata": {
        "id": "h72VGnxFrIih"
      },
      "outputs": [],
      "source": [
        "#Reading stop words\n",
        "\n",
        "def get_stopwords_list(stop_file_path):    \n",
        "    with open(stop_file_path, 'r', encoding=\"utf-8\") as f:\n",
        "        stopwords = f.readlines()\n",
        "        stop_set = set(m.strip() for m in stopwords)\n",
        "        return list(frozenset(stop_set))\n",
        "\n",
        "stopwords_path = \"/stop_words_arabic.txt\"\n",
        "stopwords = get_stopwords_list(stopwords_path)\n",
        "\n",
        "#----------------------------------------------------------------------\n",
        "\n",
        "#Remove stop words\n",
        "\n",
        "def remove_stop_words(corpus):\n",
        "    results = []\n",
        "    for text in corpus:\n",
        "        tmp = text.split(' ')\n",
        "        for stop_word in stopwords:\n",
        "            if stop_word in tmp:\n",
        "                tmp.remove(stop_word)\n",
        "        results.append(\" \".join(tmp))\n",
        "        \n",
        "    return results"
      ]
    },
    {
      "cell_type": "code",
      "execution_count": null,
      "metadata": {
        "id": "v6UWH-sOrp0F"
      },
      "outputs": [],
      "source": [
        "X_train = remove_stop_words(X_train)"
      ]
    },
    {
      "cell_type": "code",
      "execution_count": null,
      "metadata": {
        "id": "xziAgAFJtEV8"
      },
      "outputs": [],
      "source": [
        "# Instantiate the CountVectorizer method\n",
        "tfidf = TfidfVectorizer()\n",
        "\n",
        "# Fit the training data and then return the matrix\n",
        "training_data = tfidf.fit_transform(X_train)\n",
        "\n",
        "# Transform testing data and return the matrix. Note we are not fitting the testing data into the CountVectorizer()\n",
        "testing_data = tfidf.transform(X_test)"
      ]
    },
    {
      "cell_type": "code",
      "execution_count": null,
      "metadata": {
        "id": "yI4rozKzcR58"
      },
      "outputs": [],
      "source": [
        "svm = SVC()\n",
        "\n",
        "# Fit our model to the training data\n",
        "svm.fit(training_data, y_train)\n",
        "\n",
        "# Predict on the test data\n",
        "predictions = svm.predict(testing_data)\n",
        "\n",
        "svm_report = classification_report(y_test, predictions)\n"
      ]
    },
    {
      "cell_type": "code",
      "execution_count": null,
      "metadata": {
        "id": "WAFUQvcPcqRO",
        "colab": {
          "base_uri": "https://localhost:8080/"
        },
        "outputId": "b6233636-a97e-4f4a-9011-7ffb94073788"
      },
      "outputs": [
        {
          "output_type": "stream",
          "name": "stdout",
          "text": [
            "Confusion Matrix: svm\n",
            "[[5765  226   27]\n",
            " [1093 2747   45]\n",
            " [ 379  208  476]]\n",
            "\n",
            "Classification Report: \n",
            "              precision    recall  f1-score   support\n",
            "\n",
            "          -1       0.80      0.96      0.87      6018\n",
            "           0       0.86      0.71      0.78      3885\n",
            "           1       0.87      0.45      0.59      1063\n",
            "\n",
            "    accuracy                           0.82     10966\n",
            "   macro avg       0.84      0.70      0.75     10966\n",
            "weighted avg       0.83      0.82      0.81     10966\n",
            "\n",
            "Accuracy on test set: 0.8196\n",
            "f1: 0.8101\n",
            "precision_score: 0.8273\n",
            "recall_score: 0.8196\n",
            "----------------------------------------------------------------------\n"
          ]
        }
      ],
      "source": [
        "conf_svm = confusion_matrix(y_test, predictions)\n",
        "print(\"Confusion Matrix: svm\")\n",
        "print(conf_svm)\n",
        "print(\"\\nClassification Report: \",)\n",
        "print (svm_report)\n",
        "print(\"Accuracy on test set: {:.4f}\".format(svm.score(testing_data, y_test)))\n",
        "print(\"f1: {:.4f}\".format(f1_score(y_test, predictions,average='weighted')))\n",
        "print(\"precision_score: {:.4f}\".format(precision_score(y_test, predictions,average='weighted')))\n",
        "print(\"recall_score: {:.4f}\".format(recall_score(y_test, predictions,average='weighted')))\n",
        "\n",
        "print(\"----------------------------------------------------------------------\")"
      ]
    },
    {
      "cell_type": "code",
      "source": [
        "ConfusionMatrixDisplay.from_predictions(y_test, predictions,cmap='bone_r') \n",
        "plt.title('Support Vector Machines')"
      ],
      "metadata": {
        "colab": {
          "base_uri": "https://localhost:8080/",
          "height": 313
        },
        "id": "TztZ1GGMpcqM",
        "outputId": "ac5cb63a-2d39-4cda-bdff-390d9b37848a"
      },
      "execution_count": null,
      "outputs": [
        {
          "output_type": "execute_result",
          "data": {
            "text/plain": [
              "Text(0.5, 1.0, 'Support Vector Machines')"
            ]
          },
          "metadata": {},
          "execution_count": 12
        },
        {
          "output_type": "display_data",
          "data": {
            "text/plain": [
              "<Figure size 432x288 with 2 Axes>"
            ],
            "image/png": "[encoded data removed]"
          },
          "metadata": {
            "needs_background": "light"
          }
        }
      ]
    },
    {
      "cell_type": "code",
      "source": [
        "class_labels = ['negative', 'neutral', 'positive']\n",
        "ConfusionMatrixDisplay.from_predictions(y_test, predictions,cmap='bone_r',display_labels = class_labels) #,normalize='true'\n",
        "plt.title('Support Vector Machines')"
      ],
      "metadata": {
        "id": "EQoM2JpY1u05"
      },
      "execution_count": null,
      "outputs": []
    },
    {
      "cell_type": "code",
      "source": [
        "class_labels = ['negative', 'neutral', 'positive']\n",
        "ConfusionMatrixDisplay.from_predictions(y_test, predictions,cmap='bone_r',display_labels = class_labels, normalize='true') #,normalize='true'\n",
        "plt.title('Support Vector Machines')"
      ],
      "metadata": {
        "colab": {
          "base_uri": "https://localhost:8080/",
          "height": 313
        },
        "id": "k89G1Iuj1ZL6",
        "outputId": "fd9ab51b-a7e1-4bc4-8d6d-b9dabfe2f48f"
      },
      "execution_count": null,
      "outputs": [
        {
          "data": {
            "text/plain": [
              "Text(0.5, 1.0, 'Support Vector Machines')"
            ]
          },
          "execution_count": null,
          "metadata": {},
          "output_type": "execute_result"
        },
        {
          "data": {
            "image/png": "[encoded data removed]",
            "text/plain": [
              "<Figure size 432x288 with 2 Axes>"
            ]
          },
          "metadata": {},
          "output_type": "display_data"
        }
      ]
    },
    {
      "cell_type": "markdown",
      "source": [
        "Cross Validation"
      ],
      "metadata": {
        "id": "_mPEOMf0nvec"
      }
    },
    {
      "cell_type": "code",
      "source": [
        "skf = StratifiedKFold(n_splits=10)\n",
        "\n",
        "scoring = {\n",
        "    'accuracy': make_scorer(accuracy_score),\n",
        "    'sensitivity': make_scorer(recall_score,average='weighted'),\n",
        "    'f1': make_scorer(f1_score,average='weighted'),\n",
        "    'precision': make_scorer(precision_score,average='weighted'),\n",
        "}\n",
        "\n",
        "cv=skf"
      ],
      "metadata": {
        "id": "RuYlWtdDJWjy"
      },
      "execution_count": null,
      "outputs": []
    },
    {
      "cell_type": "code",
      "source": [
        "\n",
        "scores = cross_validate(svm, training_data,y_train, cv=cv,\n",
        "                         scoring=scoring,\n",
        "                        return_train_score=False)\n",
        "sorted(scores.keys())\n",
        "\n",
        "print('accuracy',scores['test_accuracy'].mean())\n",
        "print('f1',scores['test_f1'].mean())\n",
        "print('precision',scores['test_precision'].mean())\n",
        "print('recall',scores['test_sensitivity'].mean())"
      ],
      "metadata": {
        "colab": {
          "base_uri": "https://localhost:8080/"
        },
        "id": "WfmjgIboJLOZ",
        "outputId": "4785bfc3-b195-4993-cede-9d2896422faa"
      },
      "execution_count": null,
      "outputs": [
        {
          "output_type": "stream",
          "name": "stdout",
          "text": [
            "accuracy 0.8249281158702633\n",
            "f1 0.8184518343493536\n",
            "precision 0.8272292491294078\n",
            "recall 0.8249281158702633\n"
          ]
        }
      ]
    },
    {
      "cell_type": "markdown",
      "source": [
        "SMOTE, Oversampling"
      ],
      "metadata": {
        "id": "lTJjvsHJn4iE"
      }
    },
    {
      "cell_type": "code",
      "source": [
        "sm = SMOTE(random_state=seed)\n",
        "X_train_res, y_train_res = sm.fit_resample(training_data, y_train)\n",
        "print('Resampled dataset shape %s' % Counter(y_train_res))"
      ],
      "metadata": {
        "colab": {
          "base_uri": "https://localhost:8080/"
        },
        "id": "heWQ8NRKn44f",
        "outputId": "abd5d1ec-317b-4da3-a972-a0679bfa34c7"
      },
      "execution_count": null,
      "outputs": [
        {
          "output_type": "stream",
          "name": "stdout",
          "text": [
            "Resampled dataset shape Counter({-1: 23683, 0: 23683, 1: 23683})\n"
          ]
        }
      ]
    },
    {
      "cell_type": "code",
      "source": [
        "svm = SVC()\n",
        "\n",
        "# Fit our model to the training data\n",
        "svm.fit(X_train_res, y_train_res)\n",
        "\n",
        "# Predict on the test data\n",
        "predictions = svm.predict(testing_data)\n",
        "\n",
        "svm_report = classification_report(y_test, predictions)"
      ],
      "metadata": {
        "id": "YixeUfnqn58c"
      },
      "execution_count": null,
      "outputs": []
    },
    {
      "cell_type": "code",
      "source": [
        "conf_svm = confusion_matrix(y_test, predictions)\n",
        "print(\"Confusion Matrix: svm\")\n",
        "print(conf_svm)\n",
        "print(\"\\nClassification Report: \",)\n",
        "print (svm_report)\n",
        "print(\"Accuracy on test set: {:.4f}\".format(svm.score(testing_data, y_test)))\n",
        "print(\"f1: {:.4f}\".format(f1_score(y_test, predictions,average='weighted')))\n",
        "print(\"precision_score: {:.4f}\".format(precision_score(y_test, predictions,average='weighted')))\n",
        "print(\"recall_score: {:.4f}\".format(recall_score(y_test, predictions,average='weighted')))\n",
        "\n",
        "print(\"----------------------------------------------------------------------\")"
      ],
      "metadata": {
        "colab": {
          "base_uri": "https://localhost:8080/"
        },
        "id": "LEY3jeLaoDKQ",
        "outputId": "5d5777e3-dae5-4eac-ae16-50f3dc17aa53"
      },
      "execution_count": null,
      "outputs": [
        {
          "output_type": "stream",
          "name": "stdout",
          "text": [
            "Confusion Matrix: svm\n",
            "[[5762  227   29]\n",
            " [1089 2745   51]\n",
            " [ 378  178  507]]\n",
            "\n",
            "Classification Report: \n",
            "              precision    recall  f1-score   support\n",
            "\n",
            "          -1       0.80      0.96      0.87      6018\n",
            "           0       0.87      0.71      0.78      3885\n",
            "           1       0.86      0.48      0.61      1063\n",
            "\n",
            "    accuracy                           0.82     10966\n",
            "   macro avg       0.84      0.71      0.75     10966\n",
            "weighted avg       0.83      0.82      0.81     10966\n",
            "\n",
            "Accuracy on test set: 0.8220\n",
            "f1: 0.8135\n",
            "precision_score: 0.8299\n",
            "recall_score: 0.8220\n",
            "----------------------------------------------------------------------\n"
          ]
        }
      ]
    },
    {
      "cell_type": "code",
      "source": [
        "ConfusionMatrixDisplay.from_predictions(y_test, predictions,cmap='bone_r') \n",
        "plt.title('Support Vector Machines')"
      ],
      "metadata": {
        "colab": {
          "base_uri": "https://localhost:8080/",
          "height": 313
        },
        "id": "cqmnUXmToE6o",
        "outputId": "4b75bbbc-f5cb-4250-b0e6-eef160436607"
      },
      "execution_count": null,
      "outputs": [
        {
          "output_type": "execute_result",
          "data": {
            "text/plain": [
              "Text(0.5, 1.0, 'Support Vector Machines')"
            ]
          },
          "metadata": {},
          "execution_count": 16
        },
        {
          "output_type": "display_data",
          "data": {
            "text/plain": [
              "<Figure size 432x288 with 2 Axes>"
            ],
            "image/png": "[encoded data removed]"
          },
          "metadata": {
            "needs_background": "light"
          }
        }
      ]
    },
    {
      "cell_type": "code",
      "source": [
        "svm = SVC()\n",
        "scores = cross_validate(svm, X_train_res, y_train_res, cv=cv,\n",
        "                         scoring=scoring,\n",
        "                        return_train_score=False)\n",
        "sorted(scores.keys())\n",
        "\n",
        "print('accuracy',scores['test_accuracy'].mean())\n",
        "print('f1',scores['test_f1'].mean())\n",
        "print('precision',scores['test_precision'].mean())\n",
        "print('recall',scores['test_sensitivity'].mean())"
      ],
      "metadata": {
        "colab": {
          "base_uri": "https://localhost:8080/"
        },
        "outputId": "4c93d259-c651-4c1b-fe11-b0a4262b5989",
        "id": "9-Lkuv3BgROL"
      },
      "execution_count": null,
      "outputs": [
        {
          "output_type": "stream",
          "name": "stdout",
          "text": [
            "accuracy 0.9059812077207399\n",
            "f1 0.9063638024918863\n",
            "precision 0.9166248269736347\n",
            "recall 0.9059812077207399\n"
          ]
        }
      ]
    }
  ]
}