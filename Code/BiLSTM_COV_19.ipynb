{
  "nbformat": 4,
  "nbformat_minor": 0,
  "metadata": {
    "colab": {
      "provenance": []
    },
    "kernelspec": {
      "name": "python3",
      "display_name": "Python 3"
    },
    "language_info": {
      "name": "python"
    }
  },
  "cells": [
    {
      "cell_type": "markdown",
      "metadata": {
        "id": "pNqVQ7MU7jD8"
      },
      "source": [
        "**Import the Libraries**"
      ]
    },
    {
      "cell_type": "code",
      "metadata": {
        "id": "RvkRtHt64AWv",
        "colab": {
          "base_uri": "https://localhost:8080/"
        },
        "outputId": "236cbd0d-e504-4974-9769-964dbb5f5bab"
      },
      "source": [
        "import csv\n",
        "\n",
        "import pandas as pd\n",
        "\n",
        "import tensorflow as tf\n",
        "import numpy as np\n",
        "from tensorflow.keras.preprocessing.text import Tokenizer\n",
        "from tensorflow.keras.preprocessing.sequence import pad_sequences\n",
        "from tensorflow.keras.models import Sequential\n",
        "from tensorflow.keras.layers import Dense, Flatten, LSTM, Dropout, Activation, Embedding, Bidirectional\n",
        "from tensorflow.keras import Sequential, layers\n",
        "print(tf.__version__)"
      ],
      "execution_count": null,
      "outputs": [
        {
          "output_type": "stream",
          "name": "stdout",
          "text": [
            "2.8.2\n"
          ]
        }
      ]
    },
    {
      "cell_type": "code",
      "source": [
        "from sklearn import preprocessing, metrics, tree, ensemble\n",
        "from sklearn.preprocessing import LabelEncoder, StandardScaler,MaxAbsScaler,OneHotEncoder\n",
        "import matplotlib.pyplot as plt\n",
        "import numpy as np\n",
        "import pandas as pd\n",
        "from collections import Counter\n",
        "from sklearn.pipeline import make_pipeline\n",
        "#-----------------------------------------------------------\n",
        "from sklearn.metrics import classification_report, confusion_matrix, accuracy_score, precision_score, recall_score, f1_score, ConfusionMatrixDisplay, make_scorer\n",
        "from sklearn.model_selection import train_test_split, cross_val_score, GridSearchCV,StratifiedKFold,cross_validate\n",
        "from imblearn.over_sampling import SMOTE\n",
        "from imblearn.combine import SMOTEENN\n",
        "from imblearn.combine import SMOTETomek\n",
        "from keras.preprocessing.text import Tokenizer\n",
        "import csv\n",
        "from sklearn.feature_extraction.text import TfidfTransformer,CountVectorizer,TfidfVectorizer\n",
        "#-----------------------------------------------------------\n",
        "from sklearn.neighbors import KNeighborsClassifier  \n",
        "from sklearn.ensemble import RandomForestClassifier, GradientBoostingClassifier\n",
        "from sklearn.svm import SVC\n",
        "from sklearn.tree import DecisionTreeClassifier\n",
        "from sklearn.linear_model import LogisticRegression\n",
        "from sklearn.neural_network import MLPClassifier\n",
        "from sklearn.discriminant_analysis import LinearDiscriminantAnalysis\n",
        "from sklearn.naive_bayes import MultinomialNB\n",
        "#-----------------------------------------------------------\n",
        "# Prevent future/deprecation warnings from showing in output\n",
        "import warnings\n",
        "warnings.filterwarnings(action='ignore')\n"
      ],
      "metadata": {
        "id": "eU6699ebDyNb"
      },
      "execution_count": null,
      "outputs": []
    },
    {
      "cell_type": "code",
      "source": [
        "from google.colab import drive\n",
        "drive.mount('/content/drive')"
      ],
      "metadata": {
        "colab": {
          "base_uri": "https://localhost:8080/"
        },
        "id": "GREZ4JM0Ee8h",
        "outputId": "e9f41102-016c-4d1c-e487-eff266fbb737"
      },
      "execution_count": null,
      "outputs": [
        {
          "output_type": "stream",
          "name": "stdout",
          "text": [
            "Mounted at /content/drive\n"
          ]
        }
      ]
    },
    {
      "cell_type": "markdown",
      "metadata": {
        "id": "oMQWdiqa7ram"
      },
      "source": [
        "**Import NTLK Library**"
      ]
    },
    {
      "cell_type": "code",
      "metadata": {
        "id": "APvYgINr4jSC",
        "colab": {
          "base_uri": "https://localhost:8080/"
        },
        "outputId": "4eb7e8c6-9f2a-402c-ea3c-5390eab3f523"
      },
      "source": [
        "import nltk\n",
        "nltk.download('stopwords')\n",
        "from nltk.corpus import stopwords\n",
        "STOPWORDS = set(stopwords.words('arabic'))"
      ],
      "execution_count": null,
      "outputs": [
        {
          "output_type": "stream",
          "name": "stderr",
          "text": [
            "[nltk_data] Downloading package stopwords to /root/nltk_data...\n",
            "[nltk_data]   Unzipping corpora/stopwords.zip.\n"
          ]
        }
      ]
    },
    {
      "cell_type": "code",
      "source": [
        "# Reading our dataset\n",
        "df = pd.read_csv('/dataset path', usecols=[ 'sentiment','tweet'])\n",
        "\n",
        "#df.sentiment= df.sentiment.map({'positive':1, 'negative':-1, 'neutral':0})\n",
        "\n",
        "X = df.tweet\n",
        "y = df.sentiment"
      ],
      "metadata": {
        "id": "El7L-n87kjnu"
      },
      "execution_count": null,
      "outputs": []
    },
    {
      "cell_type": "markdown",
      "metadata": {
        "id": "aRTmfoUx7wsW"
      },
      "source": [
        "**Set the Hyper-Parameters**"
      ]
    },
    {
      "cell_type": "code",
      "metadata": {
        "id": "CPUGweix4l7V"
      },
      "source": [
        "vocab_size = 5000 \n",
        "embedding_dim = 4\n",
        "max_length = 100 #num of words\n",
        "trunc_type = 'post'\n",
        "padding_type = 'post'\n",
        "oov_tok = '<OOV>' #OOV = Out of Vocabulary\n",
        "#training_portion = .8"
      ],
      "execution_count": null,
      "outputs": []
    },
    {
      "cell_type": "markdown",
      "metadata": {
        "id": "w1dObaAI8JxW"
      },
      "source": [
        "**Populate List and Remove the Stopwords**"
      ]
    },
    {
      "cell_type": "code",
      "source": [
        "nltk.download('punkt')\n",
        "nltk.download('wordnet')"
      ],
      "metadata": {
        "colab": {
          "base_uri": "https://localhost:8080/"
        },
        "id": "WHLN0f0JMTtb",
        "outputId": "b6f0f797-f6dc-4f43-e3e7-2fa7323d62d7"
      },
      "execution_count": null,
      "outputs": [
        {
          "output_type": "stream",
          "name": "stderr",
          "text": [
            "[nltk_data] Downloading package punkt to /root/nltk_data...\n",
            "[nltk_data]   Unzipping tokenizers/punkt.zip.\n",
            "[nltk_data] Downloading package wordnet to /root/nltk_data...\n"
          ]
        },
        {
          "output_type": "execute_result",
          "data": {
            "text/plain": [
              "True"
            ]
          },
          "metadata": {},
          "execution_count": 7
        }
      ]
    },
    {
      "cell_type": "code",
      "execution_count": null,
      "metadata": {
        "id": "h72VGnxFrIih"
      },
      "outputs": [],
      "source": [
        "#Reading stop words\n",
        "\n",
        "def get_stopwords_list(stop_file_path):    \n",
        "    with open(stop_file_path, 'r', encoding=\"utf-8\") as f:\n",
        "        stopwords = f.readlines()\n",
        "        stop_set = set(m.strip() for m in stopwords)\n",
        "        return list(frozenset(stop_set))\n",
        "\n",
        "stopwords_path = \"/stop_words_arabic.txt\"\n",
        "stopwords = get_stopwords_list(stopwords_path)\n",
        "\n",
        "#----------------------------------------------------------------------\n",
        "\n",
        "#Remove stop words\n",
        "\n",
        "def remove_stop_words(corpus):\n",
        "    results = []\n",
        "    for text in corpus:\n",
        "        tmp = text.split(' ')\n",
        "        for stop_word in stopwords:\n",
        "            if stop_word in tmp:\n",
        "                tmp.remove(stop_word)\n",
        "        results.append(\" \".join(tmp))\n",
        "        \n",
        "    return results"
      ]
    },
    {
      "cell_type": "code",
      "execution_count": null,
      "metadata": {
        "id": "v6UWH-sOrp0F"
      },
      "outputs": [],
      "source": [
        "X = remove_stop_words(X)"
      ]
    },
    {
      "cell_type": "markdown",
      "metadata": {
        "id": "Zm77Egm58gOW"
      },
      "source": [
        "**Create Training and testing Set**"
      ]
    },
    {
      "cell_type": "code",
      "execution_count": null,
      "metadata": {
        "id": "Pb-TrMVtjJIn"
      },
      "outputs": [],
      "source": [
        "seed = 42"
      ]
    },
    {
      "cell_type": "code",
      "execution_count": null,
      "metadata": {
        "id": "qTt3ervWtHSv"
      },
      "outputs": [],
      "source": [
        "\n",
        "\n",
        "# Split our dataset into training and testing data\n",
        "X_train, X_test, y_train, y_test = train_test_split(X, y, test_size=0.2, random_state=seed)#,stratify=y"
      ]
    },
    {
      "cell_type": "markdown",
      "metadata": {
        "id": "uisJPHDu8mKf"
      },
      "source": [
        "**Tokenization**"
      ]
    },
    {
      "cell_type": "code",
      "metadata": {
        "id": "5R1kzSWq43-f"
      },
      "source": [
        "tokenizer = Tokenizer(num_words = vocab_size, oov_token=oov_tok)\n",
        "tokenizer.fit_on_texts(X_train)\n",
        "word_index = tokenizer.word_index"
      ],
      "execution_count": null,
      "outputs": []
    },
    {
      "cell_type": "code",
      "source": [
        "len(word_index)"
      ],
      "metadata": {
        "colab": {
          "base_uri": "https://localhost:8080/"
        },
        "id": "DnUCtJHoHHpr",
        "outputId": "488d88c5-711e-4999-8e47-ccf4918cba7a"
      },
      "execution_count": null,
      "outputs": [
        {
          "output_type": "execute_result",
          "data": {
            "text/plain": [
              "81754"
            ]
          },
          "metadata": {},
          "execution_count": 13
        }
      ]
    },
    {
      "cell_type": "code",
      "source": [
        "'''\n",
        "sm = SMOTE(random_state=seed)\n",
        "X_train_res, y_train_res = sm.fit_resample(tokenizer, y_train)\n",
        "print('Resampled dataset shape %s' % Counter(y_train_res))\n",
        "'''"
      ],
      "metadata": {
        "colab": {
          "base_uri": "https://localhost:8080/",
          "height": 36
        },
        "id": "nYMYwYeLqXzx",
        "outputId": "b5239af6-0c4c-4065-8fd9-85e00c374405"
      },
      "execution_count": null,
      "outputs": [
        {
          "output_type": "execute_result",
          "data": {
            "text/plain": [
              "\"\\nsm = SMOTE(random_state=seed)\\nX_train_res, y_train_res = sm.fit_resample(tokenizer, y_train)\\nprint('Resampled dataset shape %s' % Counter(y_train_res))\\n\""
            ],
            "application/vnd.google.colaboratory.intrinsic+json": {
              "type": "string"
            }
          },
          "metadata": {},
          "execution_count": 14
        }
      ]
    },
    {
      "cell_type": "markdown",
      "metadata": {
        "id": "_lrq0a-X8uZM"
      },
      "source": [
        "**Convert to Sequences on \"train_articles\"**"
      ]
    },
    {
      "cell_type": "code",
      "metadata": {
        "id": "dvUh2Iyt4_je"
      },
      "source": [
        "train_sequences = tokenizer.texts_to_sequences(X_train)"
      ],
      "execution_count": null,
      "outputs": []
    },
    {
      "cell_type": "code",
      "metadata": {
        "id": "C6wBHZlt5Bmo",
        "colab": {
          "base_uri": "https://localhost:8080/"
        },
        "outputId": "73d0b618-9a39-43a9-adac-538e3cb079b4"
      },
      "source": [
        "print(train_sequences[10]), len(train_sequences[10])"
      ],
      "execution_count": null,
      "outputs": [
        {
          "output_type": "stream",
          "name": "stdout",
          "text": [
            "[51, 606, 123, 1, 11, 2523, 1, 43, 1, 1385, 2868, 2580, 259, 166, 493, 1164, 169, 540, 1, 167, 1, 5, 188, 22, 3029, 1, 470, 11, 1, 1, 710, 1, 1618, 11, 2, 705, 99, 1, 3528, 3529, 807]\n"
          ]
        },
        {
          "output_type": "execute_result",
          "data": {
            "text/plain": [
              "(None, 41)"
            ]
          },
          "metadata": {},
          "execution_count": 16
        }
      ]
    },
    {
      "cell_type": "code",
      "metadata": {
        "id": "8a19bNfA5C-v",
        "colab": {
          "base_uri": "https://localhost:8080/"
        },
        "outputId": "64709b97-a1cc-4a60-d73d-e60a372b9df9"
      },
      "source": [
        "print(train_sequences[0]), len(train_sequences[0])"
      ],
      "execution_count": null,
      "outputs": [
        {
          "output_type": "stream",
          "name": "stdout",
          "text": [
            "[783, 1993, 23, 21, 26, 417, 11, 462, 2, 3, 2412, 41, 1116, 528, 1522, 1616, 2214, 41, 1195, 1079, 1]\n"
          ]
        },
        {
          "output_type": "execute_result",
          "data": {
            "text/plain": [
              "(None, 21)"
            ]
          },
          "metadata": {},
          "execution_count": 17
        }
      ]
    },
    {
      "cell_type": "markdown",
      "metadata": {
        "id": "Scuv0luz9DI6"
      },
      "source": [
        "**Padding and Truncating on \"train_sequences\"**"
      ]
    },
    {
      "cell_type": "markdown",
      "source": [
        "https://www.tensorflow.org/api_docs/python/tf/keras/utils/pad_sequences"
      ],
      "metadata": {
        "id": "ZlZ1M4zBAoSb"
      }
    },
    {
      "cell_type": "code",
      "metadata": {
        "id": "39gWKCmd5EZH",
        "colab": {
          "base_uri": "https://localhost:8080/"
        },
        "outputId": "fa6785fe-93dd-4b47-81b9-189ef7574139"
      },
      "source": [
        "train_padded = pad_sequences(train_sequences, maxlen=max_length, padding=padding_type, truncating=trunc_type)\n",
        "print(len(train_sequences))\n",
        "print(train_padded.shape)"
      ],
      "execution_count": null,
      "outputs": [
        {
          "output_type": "stream",
          "name": "stdout",
          "text": [
            "43862\n",
            "(43862, 100)\n"
          ]
        }
      ]
    },
    {
      "cell_type": "code",
      "metadata": {
        "id": "NqDAqI7f5GIf",
        "colab": {
          "base_uri": "https://localhost:8080/"
        },
        "outputId": "587e542e-1c2a-46b6-f75b-cc6d9020e040"
      },
      "source": [
        "train_padded[10]"
      ],
      "execution_count": null,
      "outputs": [
        {
          "output_type": "execute_result",
          "data": {
            "text/plain": [
              "array([  51,  606,  123,    1,   11, 2523,    1,   43,    1, 1385, 2868,\n",
              "       2580,  259,  166,  493, 1164,  169,  540,    1,  167,    1,    5,\n",
              "        188,   22, 3029,    1,  470,   11,    1,    1,  710,    1, 1618,\n",
              "         11,    2,  705,   99,    1, 3528, 3529,  807,    0,    0,    0,\n",
              "          0,    0,    0,    0,    0,    0,    0,    0,    0,    0,    0,\n",
              "          0,    0,    0,    0,    0,    0,    0,    0,    0,    0,    0,\n",
              "          0,    0,    0,    0,    0,    0,    0,    0,    0,    0,    0,\n",
              "          0,    0,    0,    0,    0,    0,    0,    0,    0,    0,    0,\n",
              "          0,    0,    0,    0,    0,    0,    0,    0,    0,    0,    0,\n",
              "          0], dtype=int32)"
            ]
          },
          "metadata": {},
          "execution_count": 19
        }
      ]
    },
    {
      "cell_type": "code",
      "metadata": {
        "id": "Chjy00K15HmI",
        "colab": {
          "base_uri": "https://localhost:8080/"
        },
        "outputId": "ed53586c-f30c-462d-ae20-bf6163c81813"
      },
      "source": [
        "print(\"len train_sequnces[0]: \", len(train_sequences[0]))\n",
        "print(\"len train_padded[0]: \", len(train_padded[0]))\n",
        "\n",
        "print(\"len train_sequences[1]: \", len(train_sequences[1]))\n",
        "print(\"len train_padded[1]: \", len(train_padded[1]))\n",
        "\n",
        "print(\"len train_sequences[10]: \", len(train_sequences[10]))\n",
        "print(\"len train_padded[10]: \", len(train_padded[10]))"
      ],
      "execution_count": null,
      "outputs": [
        {
          "output_type": "stream",
          "name": "stdout",
          "text": [
            "len train_sequnces[0]:  21\n",
            "len train_padded[0]:  100\n",
            "len train_sequences[1]:  40\n",
            "len train_padded[1]:  100\n",
            "len train_sequences[10]:  41\n",
            "len train_padded[10]:  100\n"
          ]
        }
      ]
    },
    {
      "cell_type": "markdown",
      "metadata": {
        "id": "8ek_UbKQ9Ll3"
      },
      "source": [
        "**Convert to Sequence, Padding & Truncating on \"validation_articles\"**"
      ]
    },
    {
      "cell_type": "code",
      "metadata": {
        "id": "KzUg6aCF5Q9P",
        "colab": {
          "base_uri": "https://localhost:8080/"
        },
        "outputId": "74d54e55-ef30-4677-82f1-4acedeaf8798"
      },
      "source": [
        "test_sequences = tokenizer.texts_to_sequences(X_test)\n",
        "test_padded = pad_sequences(test_sequences, maxlen=max_length, padding=padding_type, truncating=trunc_type)\n",
        "\n",
        "print(len(test_sequences))\n",
        "print(test_padded.shape)"
      ],
      "execution_count": null,
      "outputs": [
        {
          "output_type": "stream",
          "name": "stdout",
          "text": [
            "10966\n",
            "(10966, 100)\n"
          ]
        }
      ]
    },
    {
      "cell_type": "markdown",
      "metadata": {
        "id": "b8Ieaw-R9kUT"
      },
      "source": [
        "**Labels**"
      ]
    },
    {
      "cell_type": "code",
      "metadata": {
        "id": "G98piAM55Ub4",
        "colab": {
          "base_uri": "https://localhost:8080/"
        },
        "outputId": "13265e72-db9e-46aa-95c7-3553230c6cc2"
      },
      "source": [
        "print(set(y))"
      ],
      "execution_count": null,
      "outputs": [
        {
          "output_type": "stream",
          "name": "stdout",
          "text": [
            "{'negative', 'neutral', 'positive'}\n"
          ]
        }
      ]
    },
    {
      "cell_type": "markdown",
      "metadata": {
        "id": "1oKbyEJn9pPD"
      },
      "source": [
        "**Tokenize and Convert to Sequence on \"train_labels\" and \"validation_labels\"**"
      ]
    },
    {
      "cell_type": "code",
      "metadata": {
        "id": "MbMgdUmr5WTZ"
      },
      "source": [
        "label_tokenizer = Tokenizer()\n",
        "label_tokenizer.fit_on_texts(y)#y\n",
        "\n",
        "training_label_seq = np.array(label_tokenizer.texts_to_sequences(y_train))\n",
        "test_label_seq = np.array(label_tokenizer.texts_to_sequences(y_test))"
      ],
      "execution_count": null,
      "outputs": []
    },
    {
      "cell_type": "code",
      "source": [
        "enc = OneHotEncoder(handle_unknown='ignore')\n",
        "training_label_seq = enc.fit_transform(training_label_seq.reshape(-1,1)).toarray()\n",
        "test_label_seq = enc.fit_transform(test_label_seq.reshape(-1,1)).toarray()\n"
      ],
      "metadata": {
        "id": "rTiSvf8spja8"
      },
      "execution_count": null,
      "outputs": []
    },
    {
      "cell_type": "code",
      "metadata": {
        "id": "OBaWnkeH5X4Y",
        "colab": {
          "base_uri": "https://localhost:8080/"
        },
        "outputId": "efc78a7e-608c-4d95-b1cf-4f7b9cf9582f"
      },
      "source": [
        "label_tokenizer.word_index"
      ],
      "execution_count": null,
      "outputs": [
        {
          "output_type": "execute_result",
          "data": {
            "text/plain": [
              "{'negative': 1, 'neutral': 2, 'positive': 3}"
            ]
          },
          "metadata": {},
          "execution_count": 25
        }
      ]
    },
    {
      "cell_type": "code",
      "metadata": {
        "id": "33ZGkuAL5ZZg",
        "colab": {
          "base_uri": "https://localhost:8080/"
        },
        "outputId": "cef52225-3b16-42a6-bee8-9bb862c72609"
      },
      "source": [
        "print(training_label_seq[0])\n",
        "print(training_label_seq[1])\n",
        "print(training_label_seq[2])\n",
        "print(training_label_seq.shape)\n",
        "print('-------------')\n",
        "print(test_label_seq[0])\n",
        "print(test_label_seq[1])\n",
        "print(test_label_seq[2])\n",
        "print(test_label_seq.shape)"
      ],
      "execution_count": null,
      "outputs": [
        {
          "output_type": "stream",
          "name": "stdout",
          "text": [
            "[1. 0. 0.]\n",
            "[1. 0. 0.]\n",
            "[1. 0. 0.]\n",
            "(43862, 3)\n",
            "-------------\n",
            "[1. 0. 0.]\n",
            "[0. 1. 0.]\n",
            "[1. 0. 0.]\n",
            "(10966, 3)\n"
          ]
        }
      ]
    },
    {
      "cell_type": "markdown",
      "metadata": {
        "id": "HNLSHt2491ea"
      },
      "source": [
        "**Create Model**"
      ]
    },
    {
      "cell_type": "code",
      "source": [
        "#from tensorflow.python.keras.layers import GlobalAveragePooling1D"
      ],
      "metadata": {
        "id": "8IcBgOOv5jU6"
      },
      "execution_count": null,
      "outputs": []
    },
    {
      "cell_type": "code",
      "metadata": {
        "id": "yiSH1ZV55eUi",
        "colab": {
          "base_uri": "https://localhost:8080/"
        },
        "outputId": "faf56638-cf4f-47e3-8a31-53d0a6cc9c65"
      },
      "source": [
        "model = Sequential()\n",
        "model.add(Embedding(vocab_size, embedding_dim))#,input_length=max_length\n",
        "model.add(Dropout(0.3))\n",
        "model.add(Bidirectional(LSTM(embedding_dim)))#,dropout=0.2,recurrent_dropout=0.2\n",
        "#model.add(Bidirectional(tf.keras.layers.GRU(embedding_dim)))\n",
        "#model.add(LSTM(embedding_dim))\n",
        "#model.add(Dense(256, activation='relu'))#\n",
        "model.add(Dropout(0.3))#\n",
        "#model.add(LSTM(embedding_dim))\n",
        "#model.add(Dense(128, activation='relu'))#\n",
        "#model.add(Dropout(0.2))#\n",
        "model.add(Dense(64, activation='relu'))#\n",
        "model.add(Dropout(0.3))#\n",
        "#model.add(Dense(32, activation='relu'))#\n",
        "#model.add(Dropout(0.2))#\n",
        "model.add(Dense(3, activation='softmax'))\n",
        "model.summary()"
      ],
      "execution_count": null,
      "outputs": [
        {
          "output_type": "stream",
          "name": "stdout",
          "text": [
            "Model: \"sequential\"\n",
            "_________________________________________________________________\n",
            " Layer (type)                Output Shape              Param #   \n",
            "=================================================================\n",
            " embedding (Embedding)       (None, None, 4)           20000     \n",
            "                                                                 \n",
            " dropout (Dropout)           (None, None, 4)           0         \n",
            "                                                                 \n",
            " bidirectional (Bidirectiona  (None, 8)                288       \n",
            " l)                                                              \n",
            "                                                                 \n",
            " dropout_1 (Dropout)         (None, 8)                 0         \n",
            "                                                                 \n",
            " dense (Dense)               (None, 64)                576       \n",
            "                                                                 \n",
            " dropout_2 (Dropout)         (None, 64)                0         \n",
            "                                                                 \n",
            " dense_1 (Dense)             (None, 3)                 195       \n",
            "                                                                 \n",
            "=================================================================\n",
            "Total params: 21,059\n",
            "Trainable params: 21,059\n",
            "Non-trainable params: 0\n",
            "_________________________________________________________________\n"
          ]
        }
      ]
    },
    {
      "cell_type": "markdown",
      "metadata": {
        "id": "o-1BGHvB9_iq"
      },
      "source": [
        "**Compile the Model**"
      ]
    },
    {
      "cell_type": "code",
      "metadata": {
        "id": "oXd2O7c65gaY"
      },
      "source": [
        "opt = tf.keras.optimizers.Adam()#learning_rate=0.001, decay=1e-6 #0.0005\n",
        "model.compile(\n",
        "    loss='categorical_crossentropy',\n",
        "    optimizer=opt,\n",
        "    metrics=['accuracy'],\n",
        ")"
      ],
      "execution_count": null,
      "outputs": []
    },
    {
      "cell_type": "code",
      "source": [
        "from keras.utils.vis_utils import model_to_dot\n",
        "from IPython.display import SVG"
      ],
      "metadata": {
        "id": "7AtG4F2Px8W5"
      },
      "execution_count": null,
      "outputs": []
    },
    {
      "cell_type": "code",
      "source": [
        "SVG(model_to_dot(model).create(prog='dot', format='svg'))"
      ],
      "metadata": {
        "colab": {
          "base_uri": "https://localhost:8080/",
          "height": 1000
        },
        "id": "2kTDG0vexwYY",
        "outputId": "eda2c304-c1fb-4f61-c414-da6b1a1b2428"
      },
      "execution_count": null,
      "outputs": [
        {
          "output_type": "execute_result",
          "data": {
            "text/plain": [
              "<IPython.core.display.SVG object>"
            ],
            "image/svg+xml": "<svg height=\"741pt\" viewBox=\"0.00 0.00 267.00 556.00\" width=\"356pt\" xmlns=\"http://www.w3.org/2000/svg\" xmlns:xlink=\"http://www.w3.org/1999/xlink\">\n<g class=\"graph\" id=\"graph0\" transform=\"scale(1.3333 1.3333) rotate(0) translate(4 552)\">\n<title>G</title>\n<polygon fill=\"#ffffff\" points=\"-4,4 -4,-552 263,-552 263,4 -4,4\" stroke=\"transparent\"/>\n<!-- 140172170867728 -->\n<g class=\"node\" id=\"node1\">\n<title>140172170867728</title>\n<polygon fill=\"none\" points=\"30,-511.5 30,-547.5 229,-547.5 229,-511.5 30,-511.5\" stroke=\"#000000\"/>\n<text fill=\"#000000\" font-family=\"Times,serif\" font-size=\"14.00\" text-anchor=\"middle\" x=\"89.5\" y=\"-525.8\">embedding_input</text>\n<polyline fill=\"none\" points=\"149,-511.5 149,-547.5 \" stroke=\"#000000\"/>\n<text fill=\"#000000\" font-family=\"Times,serif\" font-size=\"14.00\" text-anchor=\"middle\" x=\"189\" y=\"-525.8\">InputLayer</text>\n</g>\n<!-- 140172170778256 -->\n<g class=\"node\" id=\"node2\">\n<title>140172170778256</title>\n<polygon fill=\"none\" points=\"47,-438.5 47,-474.5 212,-474.5 212,-438.5 47,-438.5\" stroke=\"#000000\"/>\n<text fill=\"#000000\" font-family=\"Times,serif\" font-size=\"14.00\" text-anchor=\"middle\" x=\"87.5\" y=\"-452.8\">embedding</text>\n<polyline fill=\"none\" points=\"128,-438.5 128,-474.5 \" stroke=\"#000000\"/>\n<text fill=\"#000000\" font-family=\"Times,serif\" font-size=\"14.00\" text-anchor=\"middle\" x=\"170\" y=\"-452.8\">Embedding</text>\n</g>\n<!-- 140172170867728&#45;&gt;140172170778256 -->\n<g class=\"edge\" id=\"edge1\">\n<title>140172170867728-&gt;140172170778256</title>\n<path d=\"M129.5,-511.4551C129.5,-503.3828 129.5,-493.6764 129.5,-484.6817\" fill=\"none\" stroke=\"#000000\"/>\n<polygon fill=\"#000000\" points=\"133.0001,-484.5903 129.5,-474.5904 126.0001,-484.5904 133.0001,-484.5903\" stroke=\"#000000\"/>\n</g>\n<!-- 140172170137360 -->\n<g class=\"node\" id=\"node3\">\n<title>140172170137360</title>\n<polygon fill=\"none\" points=\"66,-365.5 66,-401.5 193,-401.5 193,-365.5 66,-365.5\" stroke=\"#000000\"/>\n<text fill=\"#000000\" font-family=\"Times,serif\" font-size=\"14.00\" text-anchor=\"middle\" x=\"97\" y=\"-379.8\">dropout</text>\n<polyline fill=\"none\" points=\"128,-365.5 128,-401.5 \" stroke=\"#000000\"/>\n<text fill=\"#000000\" font-family=\"Times,serif\" font-size=\"14.00\" text-anchor=\"middle\" x=\"160.5\" y=\"-379.8\">Dropout</text>\n</g>\n<!-- 140172170778256&#45;&gt;140172170137360 -->\n<g class=\"edge\" id=\"edge2\">\n<title>140172170778256-&gt;140172170137360</title>\n<path d=\"M129.5,-438.4551C129.5,-430.3828 129.5,-420.6764 129.5,-411.6817\" fill=\"none\" stroke=\"#000000\"/>\n<polygon fill=\"#000000\" points=\"133.0001,-411.5903 129.5,-401.5904 126.0001,-411.5904 133.0001,-411.5903\" stroke=\"#000000\"/>\n</g>\n<!-- 140172170495056 -->\n<g class=\"node\" id=\"node4\">\n<title>140172170495056</title>\n<polygon fill=\"none\" points=\"0,-292.5 0,-328.5 259,-328.5 259,-292.5 0,-292.5\" stroke=\"#000000\"/>\n<text fill=\"#000000\" font-family=\"Times,serif\" font-size=\"14.00\" text-anchor=\"middle\" x=\"60.5\" y=\"-306.8\">bidirectional(lstm)</text>\n<polyline fill=\"none\" points=\"121,-292.5 121,-328.5 \" stroke=\"#000000\"/>\n<text fill=\"#000000\" font-family=\"Times,serif\" font-size=\"14.00\" text-anchor=\"middle\" x=\"190\" y=\"-306.8\">Bidirectional(LSTM)</text>\n</g>\n<!-- 140172170137360&#45;&gt;140172170495056 -->\n<g class=\"edge\" id=\"edge3\">\n<title>140172170137360-&gt;140172170495056</title>\n<path d=\"M129.5,-365.4551C129.5,-357.3828 129.5,-347.6764 129.5,-338.6817\" fill=\"none\" stroke=\"#000000\"/>\n<polygon fill=\"#000000\" points=\"133.0001,-338.5903 129.5,-328.5904 126.0001,-338.5904 133.0001,-338.5903\" stroke=\"#000000\"/>\n</g>\n<!-- 140172170867920 -->\n<g class=\"node\" id=\"node5\">\n<title>140172170867920</title>\n<polygon fill=\"none\" points=\"58.5,-219.5 58.5,-255.5 200.5,-255.5 200.5,-219.5 58.5,-219.5\" stroke=\"#000000\"/>\n<text fill=\"#000000\" font-family=\"Times,serif\" font-size=\"14.00\" text-anchor=\"middle\" x=\"97\" y=\"-233.8\">dropout_1</text>\n<polyline fill=\"none\" points=\"135.5,-219.5 135.5,-255.5 \" stroke=\"#000000\"/>\n<text fill=\"#000000\" font-family=\"Times,serif\" font-size=\"14.00\" text-anchor=\"middle\" x=\"168\" y=\"-233.8\">Dropout</text>\n</g>\n<!-- 140172170495056&#45;&gt;140172170867920 -->\n<g class=\"edge\" id=\"edge4\">\n<title>140172170495056-&gt;140172170867920</title>\n<path d=\"M129.5,-292.4551C129.5,-284.3828 129.5,-274.6764 129.5,-265.6817\" fill=\"none\" stroke=\"#000000\"/>\n<polygon fill=\"#000000\" points=\"133.0001,-265.5903 129.5,-255.5904 126.0001,-265.5904 133.0001,-265.5903\" stroke=\"#000000\"/>\n</g>\n<!-- 140172168597200 -->\n<g class=\"node\" id=\"node6\">\n<title>140172168597200</title>\n<polygon fill=\"none\" points=\"79,-146.5 79,-182.5 180,-182.5 180,-146.5 79,-146.5\" stroke=\"#000000\"/>\n<text fill=\"#000000\" font-family=\"Times,serif\" font-size=\"14.00\" text-anchor=\"middle\" x=\"103.5\" y=\"-160.8\">dense</text>\n<polyline fill=\"none\" points=\"128,-146.5 128,-182.5 \" stroke=\"#000000\"/>\n<text fill=\"#000000\" font-family=\"Times,serif\" font-size=\"14.00\" text-anchor=\"middle\" x=\"154\" y=\"-160.8\">Dense</text>\n</g>\n<!-- 140172170867920&#45;&gt;140172168597200 -->\n<g class=\"edge\" id=\"edge5\">\n<title>140172170867920-&gt;140172168597200</title>\n<path d=\"M129.5,-219.4551C129.5,-211.3828 129.5,-201.6764 129.5,-192.6817\" fill=\"none\" stroke=\"#000000\"/>\n<polygon fill=\"#000000\" points=\"133.0001,-192.5903 129.5,-182.5904 126.0001,-192.5904 133.0001,-192.5903\" stroke=\"#000000\"/>\n</g>\n<!-- 140172219501648 -->\n<g class=\"node\" id=\"node7\">\n<title>140172219501648</title>\n<polygon fill=\"none\" points=\"58.5,-73.5 58.5,-109.5 200.5,-109.5 200.5,-73.5 58.5,-73.5\" stroke=\"#000000\"/>\n<text fill=\"#000000\" font-family=\"Times,serif\" font-size=\"14.00\" text-anchor=\"middle\" x=\"97\" y=\"-87.8\">dropout_2</text>\n<polyline fill=\"none\" points=\"135.5,-73.5 135.5,-109.5 \" stroke=\"#000000\"/>\n<text fill=\"#000000\" font-family=\"Times,serif\" font-size=\"14.00\" text-anchor=\"middle\" x=\"168\" y=\"-87.8\">Dropout</text>\n</g>\n<!-- 140172168597200&#45;&gt;140172219501648 -->\n<g class=\"edge\" id=\"edge6\">\n<title>140172168597200-&gt;140172219501648</title>\n<path d=\"M129.5,-146.4551C129.5,-138.3828 129.5,-128.6764 129.5,-119.6817\" fill=\"none\" stroke=\"#000000\"/>\n<polygon fill=\"#000000\" points=\"133.0001,-119.5903 129.5,-109.5904 126.0001,-119.5904 133.0001,-119.5903\" stroke=\"#000000\"/>\n</g>\n<!-- 140172167813456 -->\n<g class=\"node\" id=\"node8\">\n<title>140172167813456</title>\n<polygon fill=\"none\" points=\"71.5,-.5 71.5,-36.5 187.5,-36.5 187.5,-.5 71.5,-.5\" stroke=\"#000000\"/>\n<text fill=\"#000000\" font-family=\"Times,serif\" font-size=\"14.00\" text-anchor=\"middle\" x=\"103.5\" y=\"-14.8\">dense_1</text>\n<polyline fill=\"none\" points=\"135.5,-.5 135.5,-36.5 \" stroke=\"#000000\"/>\n<text fill=\"#000000\" font-family=\"Times,serif\" font-size=\"14.00\" text-anchor=\"middle\" x=\"161.5\" y=\"-14.8\">Dense</text>\n</g>\n<!-- 140172219501648&#45;&gt;140172167813456 -->\n<g class=\"edge\" id=\"edge7\">\n<title>140172219501648-&gt;140172167813456</title>\n<path d=\"M129.5,-73.4551C129.5,-65.3828 129.5,-55.6764 129.5,-46.6817\" fill=\"none\" stroke=\"#000000\"/>\n<polygon fill=\"#000000\" points=\"133.0001,-46.5903 129.5,-36.5904 126.0001,-46.5904 133.0001,-46.5903\" stroke=\"#000000\"/>\n</g>\n</g>\n</svg>"
          },
          "metadata": {},
          "execution_count": 33
        }
      ]
    },
    {
      "cell_type": "markdown",
      "metadata": {
        "id": "aKWiZXKh-EE3"
      },
      "source": [
        "**Train the Model**"
      ]
    },
    {
      "cell_type": "code",
      "metadata": {
        "id": "oedluf3j5kVo",
        "colab": {
          "base_uri": "https://localhost:8080/"
        },
        "outputId": "b186dc54-cc81-4a84-8d12-01c0e457cbb5"
      },
      "source": [
        "num_epochs = 10\n",
        "history = model.fit(train_padded, training_label_seq, epochs=num_epochs,validation_split=0.1 ,shuffle=True)#batch_size= 10"
      ],
      "execution_count": null,
      "outputs": [
        {
          "output_type": "stream",
          "name": "stdout",
          "text": [
            "Epoch 1/10\n",
            "1234/1234 [==============================] - 71s 54ms/step - loss: 0.7051 - accuracy: 0.7058 - val_loss: 0.5849 - val_accuracy: 0.7636\n",
            "Epoch 2/10\n",
            "1234/1234 [==============================] - 67s 54ms/step - loss: 0.5711 - accuracy: 0.7730 - val_loss: 0.5379 - val_accuracy: 0.7864\n",
            "Epoch 3/10\n",
            "1234/1234 [==============================] - 67s 54ms/step - loss: 0.5400 - accuracy: 0.7896 - val_loss: 0.5219 - val_accuracy: 0.7946\n",
            "Epoch 4/10\n",
            "1234/1234 [==============================] - 64s 52ms/step - loss: 0.5077 - accuracy: 0.8054 - val_loss: 0.4758 - val_accuracy: 0.8179\n",
            "Epoch 5/10\n",
            "1234/1234 [==============================] - 65s 53ms/step - loss: 0.4810 - accuracy: 0.8148 - val_loss: 0.4466 - val_accuracy: 0.8258\n",
            "Epoch 6/10\n",
            "1234/1234 [==============================] - 64s 52ms/step - loss: 0.4514 - accuracy: 0.8238 - val_loss: 0.4397 - val_accuracy: 0.8160\n",
            "Epoch 7/10\n",
            "1234/1234 [==============================] - 66s 54ms/step - loss: 0.4339 - accuracy: 0.8287 - val_loss: 0.4268 - val_accuracy: 0.8247\n",
            "Epoch 8/10\n",
            "1234/1234 [==============================] - 67s 54ms/step - loss: 0.4240 - accuracy: 0.8299 - val_loss: 0.4205 - val_accuracy: 0.8297\n",
            "Epoch 9/10\n",
            "1234/1234 [==============================] - 70s 56ms/step - loss: 0.4145 - accuracy: 0.8326 - val_loss: 0.4304 - val_accuracy: 0.8274\n",
            "Epoch 10/10\n",
            "1234/1234 [==============================] - 68s 55ms/step - loss: 0.4081 - accuracy: 0.8370 - val_loss: 0.4289 - val_accuracy: 0.8293\n"
          ]
        }
      ]
    },
    {
      "cell_type": "code",
      "source": [
        "from sklearn.metrics import classification_report, confusion_matrix, accuracy_score, precision_score, recall_score, f1_score, ConfusionMatrixDisplay, make_scorer\n"
      ],
      "metadata": {
        "id": "AESXnB-4sUB7"
      },
      "execution_count": null,
      "outputs": []
    },
    {
      "cell_type": "code",
      "source": [
        "y_pred=model.predict(test_padded)\n",
        "report = classification_report(test_label_seq.argmax(axis=1), y_pred.argmax(axis=1))\n",
        "print(report)"
      ],
      "metadata": {
        "colab": {
          "base_uri": "https://localhost:8080/"
        },
        "id": "Q3T23lpir_fM",
        "outputId": "6a29c4ca-92c1-497f-b7b6-5498f035ede7"
      },
      "execution_count": null,
      "outputs": [
        {
          "output_type": "stream",
          "name": "stdout",
          "text": [
            "              precision    recall  f1-score   support\n",
            "\n",
            "           0       0.87      0.87      0.87      5929\n",
            "           1       0.78      0.85      0.81      3948\n",
            "           2       0.82      0.56      0.67      1089\n",
            "\n",
            "    accuracy                           0.83     10966\n",
            "   macro avg       0.83      0.76      0.78     10966\n",
            "weighted avg       0.83      0.83      0.83     10966\n",
            "\n"
          ]
        }
      ]
    },
    {
      "cell_type": "code",
      "source": [
        "import seaborn as sns\n",
        "sns.color_palette(\"Blues\", as_cmap=True)\n",
        "T3_lables = ['negative','neutral','positive']  \n",
        "#T3_lables = ['-1','0','1'] \n",
        "ax= plt.subplot() \n",
        "conf_lst = confusion_matrix(np.asarray(test_label_seq).argmax(axis=1), np.asarray(y_pred).argmax(axis=1))\n",
        "\n",
        "\n",
        "sns.heatmap(conf_lst, annot=True, fmt='g',cmap='bone_r', ax=ax);  #annot=True to annotate cells, ftm='g' to disable scientific notation\n",
        "\n",
        "# labels, title and ticks\n",
        "ax.set_xlabel('Predicted label');ax.set_ylabel('True label'); \n",
        "ax.set_title('BiLSTM'); \n",
        "ax.xaxis.set_ticklabels(T3_lables); ax.yaxis.set_ticklabels(T3_lables);\n",
        "\n",
        "print(conf_lst)"
      ],
      "metadata": {
        "colab": {
          "base_uri": "https://localhost:8080/",
          "height": 350
        },
        "id": "PTJl5B20E_9d",
        "outputId": "b41164bf-0e0d-4161-e43b-7df18b2bcdeb"
      },
      "execution_count": null,
      "outputs": [
        {
          "output_type": "stream",
          "name": "stdout",
          "text": [
            "[[5183  681   65]\n",
            " [ 535 3345   68]\n",
            " [ 233  244  612]]\n"
          ]
        },
        {
          "output_type": "display_data",
          "data": {
            "text/plain": [
              "<Figure size 432x288 with 2 Axes>"
            ],
            "image/png": "[encoded data removed]"
          },
          "metadata": {
            "needs_background": "light"
          }
        }
      ]
    },
    {
      "cell_type": "code",
      "source": [
        "#y_pred=model.predict(test_padded)\n",
        "#report = classification_report(test_padded.argmax(axis=1), test_label_seq.argmax(axis=1),normalize='true')\n",
        "#print(report)\n",
        "\n",
        "class_labels = ['negative', 'neutral', 'positive']\n",
        "ConfusionMatrixDisplay.from_predictions(np.asarray(test_label_seq).argmax(axis=1), np.asarray(y_pred).argmax(axis=1),cmap='bone_r',display_labels = class_labels) \n",
        "plt.title('BiLSTM')"
      ],
      "metadata": {
        "id": "CVuADwbD9jzP",
        "colab": {
          "base_uri": "https://localhost:8080/",
          "height": 313
        },
        "outputId": "a504df95-91fa-4d7a-c101-ffdce1890dec"
      },
      "execution_count": null,
      "outputs": [
        {
          "output_type": "execute_result",
          "data": {
            "text/plain": [
              "Text(0.5, 1.0, 'BiLSTM')"
            ]
          },
          "metadata": {},
          "execution_count": 41
        },
        {
          "output_type": "display_data",
          "data": {
            "text/plain": [
              "<Figure size 432x288 with 2 Axes>"
            ],
            "image/png": "[encoded data removed]"
          },
          "metadata": {
            "needs_background": "light"
          }
        }
      ]
    },
    {
      "cell_type": "code",
      "source": [
        "class_labels = ['negative', 'neutral', 'positive']\n",
        "ConfusionMatrixDisplay.from_predictions(np.asarray(test_label_seq).argmax(axis=1), np.asarray(y_pred).argmax(axis=1),cmap='bone_r',display_labels = class_labels,normalize='true') \n",
        "plt.title('BiLSTM')"
      ],
      "metadata": {
        "colab": {
          "base_uri": "https://localhost:8080/",
          "height": 313
        },
        "id": "cuXdCg4MpyQA",
        "outputId": "915f1826-a656-4b14-89fd-8fd159327b86"
      },
      "execution_count": null,
      "outputs": [
        {
          "output_type": "execute_result",
          "data": {
            "text/plain": [
              "Text(0.5, 1.0, 'BiLSTM')"
            ]
          },
          "metadata": {},
          "execution_count": 44
        },
        {
          "output_type": "display_data",
          "data": {
            "text/plain": [
              "<Figure size 432x288 with 2 Axes>"
            ],
            "image/png": "[encoded data removed]"
          },
          "metadata": {
            "needs_background": "light"
          }
        }
      ]
    },
    {
      "cell_type": "code",
      "source": [
        "score, acc = model.evaluate(test_padded, test_label_seq,verbose = 0)\n",
        "print('Test score:', score)\n",
        "print('Test accuracy:', acc)"
      ],
      "metadata": {
        "colab": {
          "base_uri": "https://localhost:8080/"
        },
        "id": "_kr-Mlq0vnyv",
        "outputId": "1535fbc4-b2a7-4a6f-a19d-9c60e29fe74f"
      },
      "execution_count": null,
      "outputs": [
        {
          "output_type": "stream",
          "name": "stdout",
          "text": [
            "Test score: 0.422305166721344\n",
            "Test accuracy: 0.8334853053092957\n"
          ]
        }
      ]
    },
    {
      "cell_type": "markdown",
      "metadata": {
        "id": "T4bmOixZ-INI"
      },
      "source": [
        "**Plot the Graph**"
      ]
    },
    {
      "cell_type": "code",
      "metadata": {
        "id": "-U5WYk6D5lzh",
        "colab": {
          "base_uri": "https://localhost:8080/",
          "height": 541
        },
        "outputId": "df509848-c2c6-4b74-c174-dcdbab64a622"
      },
      "source": [
        "\n",
        "def plot_graphs(history, string):\n",
        "  plt.plot(history.history[string])\n",
        "  plt.plot(history.history['val_'+string])\n",
        "  plt.xlabel(\"Epochs\")\n",
        "  plt.ylabel(string)\n",
        "  plt.legend([string, 'val_'+string])\n",
        "  plt.show()\n",
        "  \n",
        "plot_graphs(history, \"accuracy\")\n",
        "plot_graphs(history, \"loss\")"
      ],
      "execution_count": null,
      "outputs": [
        {
          "output_type": "display_data",
          "data": {
            "text/plain": [
              "<Figure size 432x288 with 1 Axes>"
            ],
            "image/png": "[encoded data removed]"
          },
          "metadata": {
            "needs_background": "light"
          }
        },
        {
          "output_type": "display_data",
          "data": {
            "text/plain": [
              "<Figure size 432x288 with 1 Axes>"
            ],
            "image/png": "[encoded data removed]"
          },
          "metadata": {
            "needs_background": "light"
          }
        }
      ]
    },
    {
      "cell_type": "markdown",
      "source": [
        "* [ref1](https://academy.hsoub.com/questions/16018-%D8%B8%D9%87%D9%88%D8%B1-%D8%A7%D9%84%D8%AE%D8%B7%D8%A3-%D8%A7%D9%84%D8%AA%D8%A7%D9%84%D9%8A%C2%A0valueerror-shapes-none-1-and-none-46-are-incompatible-%D8%A3%D8%AB%D9%86%D8%A7%D8%A1-%D9%85%D8%AD%D8%A7%D9%88%D9%84%D8%A9-%D8%AA%D8%AF%D8%B1%D9%8A%D8%A8-%D8%B4%D8%A8%D9%83%D8%A9-%D8%B9%D8%B5%D8%A8%D9%8A%D8%A9-%D9%81%D9%8A-keras/)\n",
        "* [ref2](https://regenerativetoday.com/implementation-of-simplernn-gru-and-lstm-models-in-keras-and-tensorflow-for-an-nlp-project/)\n",
        "\n",
        "* [ref3](https://stackoverflow.com/questions/46953967/multilabel-indicator-is-not-supported-for-confusion-matrix)"
      ],
      "metadata": {
        "id": "0bE7DChaJ8uU"
      }
    }
  ]
}